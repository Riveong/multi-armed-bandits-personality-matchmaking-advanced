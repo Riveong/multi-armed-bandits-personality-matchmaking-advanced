{
 "cells": [
  {
   "cell_type": "code",
   "execution_count": 1,
   "id": "52c5bbf0",
   "metadata": {
    "execution": {
     "iopub.execute_input": "2024-07-18T00:02:42.272163Z",
     "iopub.status.busy": "2024-07-18T00:02:42.271666Z",
     "iopub.status.idle": "2024-07-18T00:02:45.036582Z",
     "shell.execute_reply": "2024-07-18T00:02:45.034886Z"
    },
    "papermill": {
     "duration": 2.78896,
     "end_time": "2024-07-18T00:02:45.039228",
     "exception": false,
     "start_time": "2024-07-18T00:02:42.250268",
     "status": "completed"
    },
    "tags": []
   },
   "outputs": [
    {
     "name": "stdout",
     "output_type": "stream",
     "text": [
      "/kaggle/input/confidence-adventurousness-dominance/AS+SC+AD+DO/codebook.txt\n",
      "/kaggle/input/confidence-adventurousness-dominance/AS+SC+AD+DO/data.csv\n"
     ]
    }
   ],
   "source": [
    "import numpy as np # linear algebra\n",
    "import pandas as pd # data processing, CSV file I/O (e.g. pd.read_csv)\n",
    "import matplotlib.pyplot as plt\n",
    "import seaborn as sns\n",
    "import random\n",
    "import os\n",
    "for dirname, _, filenames in os.walk('/kaggle/input'):\n",
    "    for filename in filenames:\n",
    "        print(os.path.join(dirname, filename))"
   ]
  },
  {
   "cell_type": "markdown",
   "id": "46fcf5b6",
   "metadata": {
    "papermill": {
     "duration": 0.019565,
     "end_time": "2024-07-18T00:02:45.078646",
     "exception": false,
     "start_time": "2024-07-18T00:02:45.059081",
     "status": "completed"
    },
    "tags": []
   },
   "source": [
    "## DISC Personality matchmaking with Multi-armed Bandits (MAB)\n",
    "![thumb](https://i.ibb.co.com/5WZKd1b/Group-1.png)  \n",
    "Hi, am Riveong q(≧▽≦q)  \n",
    "I want to make Recommendation system / Matchmaking with Multi-armed bandits.  \n",
    "the focus of this experiment / study (because it's my thesis) is to test and compare between 3 "
   ]
  },
  {
   "cell_type": "markdown",
   "id": "0003cda4",
   "metadata": {
    "papermill": {
     "duration": 0.019527,
     "end_time": "2024-07-18T00:02:45.117676",
     "exception": false,
     "start_time": "2024-07-18T00:02:45.098149",
     "status": "completed"
    },
    "tags": []
   },
   "source": [
    "## Data Overview"
   ]
  },
  {
   "cell_type": "code",
   "execution_count": 2,
   "id": "f97c8972",
   "metadata": {
    "execution": {
     "iopub.execute_input": "2024-07-18T00:02:45.159915Z",
     "iopub.status.busy": "2024-07-18T00:02:45.159346Z",
     "iopub.status.idle": "2024-07-18T00:02:45.215685Z",
     "shell.execute_reply": "2024-07-18T00:02:45.214400Z"
    },
    "papermill": {
     "duration": 0.081065,
     "end_time": "2024-07-18T00:02:45.218476",
     "exception": false,
     "start_time": "2024-07-18T00:02:45.137411",
     "status": "completed"
    },
    "tags": []
   },
   "outputs": [
    {
     "data": {
      "text/html": [
       "<div>\n",
       "<style scoped>\n",
       "    .dataframe tbody tr th:only-of-type {\n",
       "        vertical-align: middle;\n",
       "    }\n",
       "\n",
       "    .dataframe tbody tr th {\n",
       "        vertical-align: top;\n",
       "    }\n",
       "\n",
       "    .dataframe thead th {\n",
       "        text-align: right;\n",
       "    }\n",
       "</style>\n",
       "<table border=\"1\" class=\"dataframe\">\n",
       "  <thead>\n",
       "    <tr style=\"text-align: right;\">\n",
       "      <th></th>\n",
       "      <th>AS1</th>\n",
       "      <th>AS2</th>\n",
       "      <th>AS3</th>\n",
       "      <th>AS4</th>\n",
       "      <th>AS5</th>\n",
       "      <th>AS6</th>\n",
       "      <th>AS7</th>\n",
       "      <th>AS8</th>\n",
       "      <th>AS9</th>\n",
       "      <th>AS10</th>\n",
       "      <th>...</th>\n",
       "      <th>DO3</th>\n",
       "      <th>DO4</th>\n",
       "      <th>DO5</th>\n",
       "      <th>DO6</th>\n",
       "      <th>DO7</th>\n",
       "      <th>DO8</th>\n",
       "      <th>DO9</th>\n",
       "      <th>DO10</th>\n",
       "      <th>age</th>\n",
       "      <th>gender</th>\n",
       "    </tr>\n",
       "  </thead>\n",
       "  <tbody>\n",
       "    <tr>\n",
       "      <th>0</th>\n",
       "      <td>4</td>\n",
       "      <td>4</td>\n",
       "      <td>3</td>\n",
       "      <td>3</td>\n",
       "      <td>5</td>\n",
       "      <td>4</td>\n",
       "      <td>1</td>\n",
       "      <td>3</td>\n",
       "      <td>1</td>\n",
       "      <td>1</td>\n",
       "      <td>...</td>\n",
       "      <td>3</td>\n",
       "      <td>1</td>\n",
       "      <td>3</td>\n",
       "      <td>2</td>\n",
       "      <td>5</td>\n",
       "      <td>4</td>\n",
       "      <td>2</td>\n",
       "      <td>1</td>\n",
       "      <td>29</td>\n",
       "      <td>2</td>\n",
       "    </tr>\n",
       "    <tr>\n",
       "      <th>1</th>\n",
       "      <td>4</td>\n",
       "      <td>3</td>\n",
       "      <td>4</td>\n",
       "      <td>4</td>\n",
       "      <td>3</td>\n",
       "      <td>2</td>\n",
       "      <td>3</td>\n",
       "      <td>3</td>\n",
       "      <td>4</td>\n",
       "      <td>3</td>\n",
       "      <td>...</td>\n",
       "      <td>3</td>\n",
       "      <td>2</td>\n",
       "      <td>3</td>\n",
       "      <td>2</td>\n",
       "      <td>3</td>\n",
       "      <td>3</td>\n",
       "      <td>2</td>\n",
       "      <td>2</td>\n",
       "      <td>49</td>\n",
       "      <td>2</td>\n",
       "    </tr>\n",
       "    <tr>\n",
       "      <th>2</th>\n",
       "      <td>5</td>\n",
       "      <td>4</td>\n",
       "      <td>4</td>\n",
       "      <td>5</td>\n",
       "      <td>3</td>\n",
       "      <td>3</td>\n",
       "      <td>2</td>\n",
       "      <td>2</td>\n",
       "      <td>1</td>\n",
       "      <td>1</td>\n",
       "      <td>...</td>\n",
       "      <td>3</td>\n",
       "      <td>3</td>\n",
       "      <td>3</td>\n",
       "      <td>4</td>\n",
       "      <td>4</td>\n",
       "      <td>5</td>\n",
       "      <td>2</td>\n",
       "      <td>3</td>\n",
       "      <td>52</td>\n",
       "      <td>1</td>\n",
       "    </tr>\n",
       "    <tr>\n",
       "      <th>3</th>\n",
       "      <td>4</td>\n",
       "      <td>3</td>\n",
       "      <td>3</td>\n",
       "      <td>2</td>\n",
       "      <td>3</td>\n",
       "      <td>3</td>\n",
       "      <td>4</td>\n",
       "      <td>3</td>\n",
       "      <td>4</td>\n",
       "      <td>1</td>\n",
       "      <td>...</td>\n",
       "      <td>3</td>\n",
       "      <td>3</td>\n",
       "      <td>4</td>\n",
       "      <td>4</td>\n",
       "      <td>4</td>\n",
       "      <td>5</td>\n",
       "      <td>3</td>\n",
       "      <td>1</td>\n",
       "      <td>34</td>\n",
       "      <td>2</td>\n",
       "    </tr>\n",
       "    <tr>\n",
       "      <th>4</th>\n",
       "      <td>4</td>\n",
       "      <td>4</td>\n",
       "      <td>4</td>\n",
       "      <td>4</td>\n",
       "      <td>4</td>\n",
       "      <td>3</td>\n",
       "      <td>2</td>\n",
       "      <td>1</td>\n",
       "      <td>2</td>\n",
       "      <td>0</td>\n",
       "      <td>...</td>\n",
       "      <td>4</td>\n",
       "      <td>3</td>\n",
       "      <td>4</td>\n",
       "      <td>3</td>\n",
       "      <td>5</td>\n",
       "      <td>5</td>\n",
       "      <td>4</td>\n",
       "      <td>4</td>\n",
       "      <td>52</td>\n",
       "      <td>2</td>\n",
       "    </tr>\n",
       "  </tbody>\n",
       "</table>\n",
       "<p>5 rows × 42 columns</p>\n",
       "</div>"
      ],
      "text/plain": [
       "   AS1  AS2  AS3  AS4  AS5  AS6  AS7  AS8  AS9  AS10  ...  DO3  DO4  DO5  DO6  \\\n",
       "0    4    4    3    3    5    4    1    3    1     1  ...    3    1    3    2   \n",
       "1    4    3    4    4    3    2    3    3    4     3  ...    3    2    3    2   \n",
       "2    5    4    4    5    3    3    2    2    1     1  ...    3    3    3    4   \n",
       "3    4    3    3    2    3    3    4    3    4     1  ...    3    3    4    4   \n",
       "4    4    4    4    4    4    3    2    1    2     0  ...    4    3    4    3   \n",
       "\n",
       "   DO7  DO8  DO9  DO10  age  gender  \n",
       "0    5    4    2     1   29       2  \n",
       "1    3    3    2     2   49       2  \n",
       "2    4    5    2     3   52       1  \n",
       "3    4    5    3     1   34       2  \n",
       "4    5    5    4     4   52       2  \n",
       "\n",
       "[5 rows x 42 columns]"
      ]
     },
     "execution_count": 2,
     "metadata": {},
     "output_type": "execute_result"
    }
   ],
   "source": [
    "datas = pd.read_csv('/kaggle/input/confidence-adventurousness-dominance/AS+SC+AD+DO/data.csv')\n",
    "datas.head()"
   ]
  },
  {
   "cell_type": "code",
   "execution_count": 3,
   "id": "3b827b60",
   "metadata": {
    "execution": {
     "iopub.execute_input": "2024-07-18T00:02:45.261883Z",
     "iopub.status.busy": "2024-07-18T00:02:45.261456Z",
     "iopub.status.idle": "2024-07-18T00:02:45.295816Z",
     "shell.execute_reply": "2024-07-18T00:02:45.294374Z"
    },
    "papermill": {
     "duration": 0.059572,
     "end_time": "2024-07-18T00:02:45.298871",
     "exception": false,
     "start_time": "2024-07-18T00:02:45.239299",
     "status": "completed"
    },
    "tags": []
   },
   "outputs": [
    {
     "name": "stdout",
     "output_type": "stream",
     "text": [
      "<class 'pandas.core.frame.DataFrame'>\n",
      "RangeIndex: 1005 entries, 0 to 1004\n",
      "Data columns (total 42 columns):\n",
      " #   Column  Non-Null Count  Dtype\n",
      "---  ------  --------------  -----\n",
      " 0   AS1     1005 non-null   int64\n",
      " 1   AS2     1005 non-null   int64\n",
      " 2   AS3     1005 non-null   int64\n",
      " 3   AS4     1005 non-null   int64\n",
      " 4   AS5     1005 non-null   int64\n",
      " 5   AS6     1005 non-null   int64\n",
      " 6   AS7     1005 non-null   int64\n",
      " 7   AS8     1005 non-null   int64\n",
      " 8   AS9     1005 non-null   int64\n",
      " 9   AS10    1005 non-null   int64\n",
      " 10  SC1     1005 non-null   int64\n",
      " 11  SC2     1005 non-null   int64\n",
      " 12  SC3     1005 non-null   int64\n",
      " 13  SC4     1005 non-null   int64\n",
      " 14  SC5     1005 non-null   int64\n",
      " 15  SC6     1005 non-null   int64\n",
      " 16  SC7     1005 non-null   int64\n",
      " 17  SC8     1005 non-null   int64\n",
      " 18  SC9     1005 non-null   int64\n",
      " 19  SC10    1005 non-null   int64\n",
      " 20  AD1     1005 non-null   int64\n",
      " 21  AD2     1005 non-null   int64\n",
      " 22  AD3     1005 non-null   int64\n",
      " 23  AD4     1005 non-null   int64\n",
      " 24  AD5     1005 non-null   int64\n",
      " 25  AD6     1005 non-null   int64\n",
      " 26  AD7     1005 non-null   int64\n",
      " 27  AD8     1005 non-null   int64\n",
      " 28  AD9     1005 non-null   int64\n",
      " 29  AD10    1005 non-null   int64\n",
      " 30  DO1     1005 non-null   int64\n",
      " 31  DO2     1005 non-null   int64\n",
      " 32  DO3     1005 non-null   int64\n",
      " 33  DO4     1005 non-null   int64\n",
      " 34  DO5     1005 non-null   int64\n",
      " 35  DO6     1005 non-null   int64\n",
      " 36  DO7     1005 non-null   int64\n",
      " 37  DO8     1005 non-null   int64\n",
      " 38  DO9     1005 non-null   int64\n",
      " 39  DO10    1005 non-null   int64\n",
      " 40  age     1005 non-null   int64\n",
      " 41  gender  1005 non-null   int64\n",
      "dtypes: int64(42)\n",
      "memory usage: 329.9 KB\n"
     ]
    }
   ],
   "source": [
    "datas.info()"
   ]
  },
  {
   "cell_type": "markdown",
   "id": "cd6be4b3",
   "metadata": {
    "papermill": {
     "duration": 0.019795,
     "end_time": "2024-07-18T00:02:45.338799",
     "exception": false,
     "start_time": "2024-07-18T00:02:45.319004",
     "status": "completed"
    },
    "tags": []
   },
   "source": [
    "# Cleaning Data"
   ]
  },
  {
   "cell_type": "code",
   "execution_count": 4,
   "id": "a4c379d2",
   "metadata": {
    "execution": {
     "iopub.execute_input": "2024-07-18T00:02:45.382208Z",
     "iopub.status.busy": "2024-07-18T00:02:45.381802Z",
     "iopub.status.idle": "2024-07-18T00:02:45.427638Z",
     "shell.execute_reply": "2024-07-18T00:02:45.426415Z"
    },
    "papermill": {
     "duration": 0.071853,
     "end_time": "2024-07-18T00:02:45.430792",
     "exception": false,
     "start_time": "2024-07-18T00:02:45.358939",
     "status": "completed"
    },
    "tags": []
   },
   "outputs": [],
   "source": [
    "datas = datas.replace(0, pd.NA)\n",
    "datas = datas.dropna()"
   ]
  },
  {
   "cell_type": "code",
   "execution_count": 5,
   "id": "a076f0b5",
   "metadata": {
    "execution": {
     "iopub.execute_input": "2024-07-18T00:02:45.475162Z",
     "iopub.status.busy": "2024-07-18T00:02:45.474711Z",
     "iopub.status.idle": "2024-07-18T00:02:45.506736Z",
     "shell.execute_reply": "2024-07-18T00:02:45.505474Z"
    },
    "papermill": {
     "duration": 0.057638,
     "end_time": "2024-07-18T00:02:45.509626",
     "exception": false,
     "start_time": "2024-07-18T00:02:45.451988",
     "status": "completed"
    },
    "tags": []
   },
   "outputs": [
    {
     "data": {
      "text/html": [
       "<div>\n",
       "<style scoped>\n",
       "    .dataframe tbody tr th:only-of-type {\n",
       "        vertical-align: middle;\n",
       "    }\n",
       "\n",
       "    .dataframe tbody tr th {\n",
       "        vertical-align: top;\n",
       "    }\n",
       "\n",
       "    .dataframe thead th {\n",
       "        text-align: right;\n",
       "    }\n",
       "</style>\n",
       "<table border=\"1\" class=\"dataframe\">\n",
       "  <thead>\n",
       "    <tr style=\"text-align: right;\">\n",
       "      <th></th>\n",
       "      <th>AS1</th>\n",
       "      <th>AS2</th>\n",
       "      <th>AS3</th>\n",
       "      <th>AS4</th>\n",
       "      <th>AS5</th>\n",
       "      <th>AS6</th>\n",
       "      <th>AS7</th>\n",
       "      <th>AS8</th>\n",
       "      <th>AS9</th>\n",
       "      <th>AS10</th>\n",
       "      <th>...</th>\n",
       "      <th>DO3</th>\n",
       "      <th>DO4</th>\n",
       "      <th>DO5</th>\n",
       "      <th>DO6</th>\n",
       "      <th>DO7</th>\n",
       "      <th>DO8</th>\n",
       "      <th>DO9</th>\n",
       "      <th>DO10</th>\n",
       "      <th>age</th>\n",
       "      <th>gender</th>\n",
       "    </tr>\n",
       "  </thead>\n",
       "  <tbody>\n",
       "    <tr>\n",
       "      <th>999</th>\n",
       "      <td>3</td>\n",
       "      <td>2</td>\n",
       "      <td>2</td>\n",
       "      <td>3</td>\n",
       "      <td>2</td>\n",
       "      <td>3</td>\n",
       "      <td>3</td>\n",
       "      <td>3</td>\n",
       "      <td>3</td>\n",
       "      <td>2</td>\n",
       "      <td>...</td>\n",
       "      <td>3</td>\n",
       "      <td>2</td>\n",
       "      <td>2</td>\n",
       "      <td>3</td>\n",
       "      <td>3</td>\n",
       "      <td>3</td>\n",
       "      <td>2</td>\n",
       "      <td>2</td>\n",
       "      <td>60</td>\n",
       "      <td>1</td>\n",
       "    </tr>\n",
       "    <tr>\n",
       "      <th>1000</th>\n",
       "      <td>2</td>\n",
       "      <td>5</td>\n",
       "      <td>4</td>\n",
       "      <td>4</td>\n",
       "      <td>3</td>\n",
       "      <td>5</td>\n",
       "      <td>1</td>\n",
       "      <td>3</td>\n",
       "      <td>2</td>\n",
       "      <td>3</td>\n",
       "      <td>...</td>\n",
       "      <td>4</td>\n",
       "      <td>3</td>\n",
       "      <td>4</td>\n",
       "      <td>3</td>\n",
       "      <td>3</td>\n",
       "      <td>5</td>\n",
       "      <td>4</td>\n",
       "      <td>1</td>\n",
       "      <td>15</td>\n",
       "      <td>2</td>\n",
       "    </tr>\n",
       "    <tr>\n",
       "      <th>1001</th>\n",
       "      <td>4</td>\n",
       "      <td>4</td>\n",
       "      <td>3</td>\n",
       "      <td>3</td>\n",
       "      <td>4</td>\n",
       "      <td>4</td>\n",
       "      <td>2</td>\n",
       "      <td>2</td>\n",
       "      <td>1</td>\n",
       "      <td>1</td>\n",
       "      <td>...</td>\n",
       "      <td>2</td>\n",
       "      <td>2</td>\n",
       "      <td>2</td>\n",
       "      <td>2</td>\n",
       "      <td>2</td>\n",
       "      <td>4</td>\n",
       "      <td>2</td>\n",
       "      <td>2</td>\n",
       "      <td>38</td>\n",
       "      <td>2</td>\n",
       "    </tr>\n",
       "    <tr>\n",
       "      <th>1002</th>\n",
       "      <td>4</td>\n",
       "      <td>4</td>\n",
       "      <td>4</td>\n",
       "      <td>4</td>\n",
       "      <td>4</td>\n",
       "      <td>3</td>\n",
       "      <td>2</td>\n",
       "      <td>4</td>\n",
       "      <td>2</td>\n",
       "      <td>1</td>\n",
       "      <td>...</td>\n",
       "      <td>2</td>\n",
       "      <td>2</td>\n",
       "      <td>4</td>\n",
       "      <td>4</td>\n",
       "      <td>2</td>\n",
       "      <td>4</td>\n",
       "      <td>3</td>\n",
       "      <td>4</td>\n",
       "      <td>34</td>\n",
       "      <td>2</td>\n",
       "    </tr>\n",
       "    <tr>\n",
       "      <th>1003</th>\n",
       "      <td>5</td>\n",
       "      <td>4</td>\n",
       "      <td>3</td>\n",
       "      <td>5</td>\n",
       "      <td>4</td>\n",
       "      <td>4</td>\n",
       "      <td>1</td>\n",
       "      <td>2</td>\n",
       "      <td>1</td>\n",
       "      <td>1</td>\n",
       "      <td>...</td>\n",
       "      <td>3</td>\n",
       "      <td>3</td>\n",
       "      <td>3</td>\n",
       "      <td>3</td>\n",
       "      <td>4</td>\n",
       "      <td>4</td>\n",
       "      <td>4</td>\n",
       "      <td>4</td>\n",
       "      <td>23</td>\n",
       "      <td>1</td>\n",
       "    </tr>\n",
       "  </tbody>\n",
       "</table>\n",
       "<p>5 rows × 42 columns</p>\n",
       "</div>"
      ],
      "text/plain": [
       "     AS1 AS2 AS3 AS4 AS5 AS6 AS7 AS8 AS9 AS10  ... DO3 DO4 DO5 DO6 DO7 DO8  \\\n",
       "999    3   2   2   3   2   3   3   3   3    2  ...   3   2   2   3   3   3   \n",
       "1000   2   5   4   4   3   5   1   3   2    3  ...   4   3   4   3   3   5   \n",
       "1001   4   4   3   3   4   4   2   2   1    1  ...   2   2   2   2   2   4   \n",
       "1002   4   4   4   4   4   3   2   4   2    1  ...   2   2   4   4   2   4   \n",
       "1003   5   4   3   5   4   4   1   2   1    1  ...   3   3   3   3   4   4   \n",
       "\n",
       "     DO9 DO10 age gender  \n",
       "999    2    2  60      1  \n",
       "1000   4    1  15      2  \n",
       "1001   2    2  38      2  \n",
       "1002   3    4  34      2  \n",
       "1003   4    4  23      1  \n",
       "\n",
       "[5 rows x 42 columns]"
      ]
     },
     "execution_count": 5,
     "metadata": {},
     "output_type": "execute_result"
    }
   ],
   "source": [
    "datas.tail()"
   ]
  },
  {
   "cell_type": "code",
   "execution_count": 6,
   "id": "a86f0007",
   "metadata": {
    "execution": {
     "iopub.execute_input": "2024-07-18T00:02:45.554646Z",
     "iopub.status.busy": "2024-07-18T00:02:45.554237Z",
     "iopub.status.idle": "2024-07-18T00:02:45.578917Z",
     "shell.execute_reply": "2024-07-18T00:02:45.576982Z"
    },
    "papermill": {
     "duration": 0.049685,
     "end_time": "2024-07-18T00:02:45.581892",
     "exception": false,
     "start_time": "2024-07-18T00:02:45.532207",
     "status": "completed"
    },
    "tags": []
   },
   "outputs": [
    {
     "name": "stdout",
     "output_type": "stream",
     "text": [
      "<class 'pandas.core.frame.DataFrame'>\n",
      "Index: 898 entries, 1 to 1003\n",
      "Data columns (total 42 columns):\n",
      " #   Column  Non-Null Count  Dtype \n",
      "---  ------  --------------  ----- \n",
      " 0   AS1     898 non-null    object\n",
      " 1   AS2     898 non-null    object\n",
      " 2   AS3     898 non-null    object\n",
      " 3   AS4     898 non-null    object\n",
      " 4   AS5     898 non-null    object\n",
      " 5   AS6     898 non-null    object\n",
      " 6   AS7     898 non-null    object\n",
      " 7   AS8     898 non-null    object\n",
      " 8   AS9     898 non-null    object\n",
      " 9   AS10    898 non-null    object\n",
      " 10  SC1     898 non-null    object\n",
      " 11  SC2     898 non-null    object\n",
      " 12  SC3     898 non-null    object\n",
      " 13  SC4     898 non-null    object\n",
      " 14  SC5     898 non-null    object\n",
      " 15  SC6     898 non-null    object\n",
      " 16  SC7     898 non-null    object\n",
      " 17  SC8     898 non-null    object\n",
      " 18  SC9     898 non-null    object\n",
      " 19  SC10    898 non-null    object\n",
      " 20  AD1     898 non-null    object\n",
      " 21  AD2     898 non-null    object\n",
      " 22  AD3     898 non-null    object\n",
      " 23  AD4     898 non-null    object\n",
      " 24  AD5     898 non-null    object\n",
      " 25  AD6     898 non-null    object\n",
      " 26  AD7     898 non-null    object\n",
      " 27  AD8     898 non-null    object\n",
      " 28  AD9     898 non-null    object\n",
      " 29  AD10    898 non-null    object\n",
      " 30  DO1     898 non-null    object\n",
      " 31  DO2     898 non-null    object\n",
      " 32  DO3     898 non-null    object\n",
      " 33  DO4     898 non-null    object\n",
      " 34  DO5     898 non-null    object\n",
      " 35  DO6     898 non-null    object\n",
      " 36  DO7     898 non-null    object\n",
      " 37  DO8     898 non-null    object\n",
      " 38  DO9     898 non-null    object\n",
      " 39  DO10    898 non-null    object\n",
      " 40  age     898 non-null    int64 \n",
      " 41  gender  898 non-null    object\n",
      "dtypes: int64(1), object(41)\n",
      "memory usage: 301.7+ KB\n"
     ]
    }
   ],
   "source": [
    "datas.info()"
   ]
  },
  {
   "cell_type": "markdown",
   "id": "777b6b13",
   "metadata": {
    "papermill": {
     "duration": 0.020384,
     "end_time": "2024-07-18T00:02:45.623104",
     "exception": false,
     "start_time": "2024-07-18T00:02:45.602720",
     "status": "completed"
    },
    "tags": []
   },
   "source": [
    "# Making random sample data"
   ]
  },
  {
   "cell_type": "code",
   "execution_count": 7,
   "id": "b212b3aa",
   "metadata": {
    "execution": {
     "iopub.execute_input": "2024-07-18T00:02:45.667003Z",
     "iopub.status.busy": "2024-07-18T00:02:45.666629Z",
     "iopub.status.idle": "2024-07-18T00:02:45.683741Z",
     "shell.execute_reply": "2024-07-18T00:02:45.682284Z"
    },
    "papermill": {
     "duration": 0.042648,
     "end_time": "2024-07-18T00:02:45.686864",
     "exception": false,
     "start_time": "2024-07-18T00:02:45.644216",
     "status": "completed"
    },
    "tags": []
   },
   "outputs": [],
   "source": [
    "# picking 10% of df\n",
    "sampled_data = datas.sample(frac=0.1, random_state=1)\n",
    "\n",
    "# saving data\n",
    "sampled_data.to_csv('sampled_data.csv', index=False)"
   ]
  },
  {
   "cell_type": "code",
   "execution_count": 8,
   "id": "866ae640",
   "metadata": {
    "execution": {
     "iopub.execute_input": "2024-07-18T00:02:45.731539Z",
     "iopub.status.busy": "2024-07-18T00:02:45.731146Z",
     "iopub.status.idle": "2024-07-18T00:02:45.757900Z",
     "shell.execute_reply": "2024-07-18T00:02:45.756800Z"
    },
    "papermill": {
     "duration": 0.052468,
     "end_time": "2024-07-18T00:02:45.760599",
     "exception": false,
     "start_time": "2024-07-18T00:02:45.708131",
     "status": "completed"
    },
    "tags": []
   },
   "outputs": [
    {
     "data": {
      "text/html": [
       "<div>\n",
       "<style scoped>\n",
       "    .dataframe tbody tr th:only-of-type {\n",
       "        vertical-align: middle;\n",
       "    }\n",
       "\n",
       "    .dataframe tbody tr th {\n",
       "        vertical-align: top;\n",
       "    }\n",
       "\n",
       "    .dataframe thead th {\n",
       "        text-align: right;\n",
       "    }\n",
       "</style>\n",
       "<table border=\"1\" class=\"dataframe\">\n",
       "  <thead>\n",
       "    <tr style=\"text-align: right;\">\n",
       "      <th></th>\n",
       "      <th>AS1</th>\n",
       "      <th>AS2</th>\n",
       "      <th>AS3</th>\n",
       "      <th>AS4</th>\n",
       "      <th>AS5</th>\n",
       "      <th>AS6</th>\n",
       "      <th>AS7</th>\n",
       "      <th>AS8</th>\n",
       "      <th>AS9</th>\n",
       "      <th>AS10</th>\n",
       "      <th>...</th>\n",
       "      <th>DO3</th>\n",
       "      <th>DO4</th>\n",
       "      <th>DO5</th>\n",
       "      <th>DO6</th>\n",
       "      <th>DO7</th>\n",
       "      <th>DO8</th>\n",
       "      <th>DO9</th>\n",
       "      <th>DO10</th>\n",
       "      <th>age</th>\n",
       "      <th>gender</th>\n",
       "    </tr>\n",
       "  </thead>\n",
       "  <tbody>\n",
       "    <tr>\n",
       "      <th>0</th>\n",
       "      <td>5</td>\n",
       "      <td>4</td>\n",
       "      <td>4</td>\n",
       "      <td>4</td>\n",
       "      <td>4</td>\n",
       "      <td>4</td>\n",
       "      <td>2</td>\n",
       "      <td>2</td>\n",
       "      <td>2</td>\n",
       "      <td>1</td>\n",
       "      <td>...</td>\n",
       "      <td>2</td>\n",
       "      <td>2</td>\n",
       "      <td>4</td>\n",
       "      <td>2</td>\n",
       "      <td>2</td>\n",
       "      <td>2</td>\n",
       "      <td>2</td>\n",
       "      <td>2</td>\n",
       "      <td>51</td>\n",
       "      <td>2</td>\n",
       "    </tr>\n",
       "    <tr>\n",
       "      <th>1</th>\n",
       "      <td>2</td>\n",
       "      <td>2</td>\n",
       "      <td>2</td>\n",
       "      <td>2</td>\n",
       "      <td>2</td>\n",
       "      <td>2</td>\n",
       "      <td>4</td>\n",
       "      <td>4</td>\n",
       "      <td>4</td>\n",
       "      <td>2</td>\n",
       "      <td>...</td>\n",
       "      <td>2</td>\n",
       "      <td>2</td>\n",
       "      <td>2</td>\n",
       "      <td>2</td>\n",
       "      <td>2</td>\n",
       "      <td>2</td>\n",
       "      <td>2</td>\n",
       "      <td>2</td>\n",
       "      <td>31</td>\n",
       "      <td>1</td>\n",
       "    </tr>\n",
       "    <tr>\n",
       "      <th>2</th>\n",
       "      <td>5</td>\n",
       "      <td>3</td>\n",
       "      <td>4</td>\n",
       "      <td>4</td>\n",
       "      <td>4</td>\n",
       "      <td>4</td>\n",
       "      <td>2</td>\n",
       "      <td>3</td>\n",
       "      <td>2</td>\n",
       "      <td>1</td>\n",
       "      <td>...</td>\n",
       "      <td>2</td>\n",
       "      <td>1</td>\n",
       "      <td>3</td>\n",
       "      <td>3</td>\n",
       "      <td>5</td>\n",
       "      <td>3</td>\n",
       "      <td>1</td>\n",
       "      <td>2</td>\n",
       "      <td>60</td>\n",
       "      <td>2</td>\n",
       "    </tr>\n",
       "    <tr>\n",
       "      <th>3</th>\n",
       "      <td>4</td>\n",
       "      <td>4</td>\n",
       "      <td>3</td>\n",
       "      <td>3</td>\n",
       "      <td>4</td>\n",
       "      <td>3</td>\n",
       "      <td>4</td>\n",
       "      <td>2</td>\n",
       "      <td>3</td>\n",
       "      <td>1</td>\n",
       "      <td>...</td>\n",
       "      <td>3</td>\n",
       "      <td>3</td>\n",
       "      <td>3</td>\n",
       "      <td>3</td>\n",
       "      <td>2</td>\n",
       "      <td>2</td>\n",
       "      <td>2</td>\n",
       "      <td>2</td>\n",
       "      <td>42</td>\n",
       "      <td>2</td>\n",
       "    </tr>\n",
       "    <tr>\n",
       "      <th>4</th>\n",
       "      <td>2</td>\n",
       "      <td>3</td>\n",
       "      <td>2</td>\n",
       "      <td>2</td>\n",
       "      <td>2</td>\n",
       "      <td>3</td>\n",
       "      <td>3</td>\n",
       "      <td>2</td>\n",
       "      <td>2</td>\n",
       "      <td>4</td>\n",
       "      <td>...</td>\n",
       "      <td>4</td>\n",
       "      <td>3</td>\n",
       "      <td>5</td>\n",
       "      <td>3</td>\n",
       "      <td>3</td>\n",
       "      <td>3</td>\n",
       "      <td>4</td>\n",
       "      <td>3</td>\n",
       "      <td>39</td>\n",
       "      <td>1</td>\n",
       "    </tr>\n",
       "    <tr>\n",
       "      <th>...</th>\n",
       "      <td>...</td>\n",
       "      <td>...</td>\n",
       "      <td>...</td>\n",
       "      <td>...</td>\n",
       "      <td>...</td>\n",
       "      <td>...</td>\n",
       "      <td>...</td>\n",
       "      <td>...</td>\n",
       "      <td>...</td>\n",
       "      <td>...</td>\n",
       "      <td>...</td>\n",
       "      <td>...</td>\n",
       "      <td>...</td>\n",
       "      <td>...</td>\n",
       "      <td>...</td>\n",
       "      <td>...</td>\n",
       "      <td>...</td>\n",
       "      <td>...</td>\n",
       "      <td>...</td>\n",
       "      <td>...</td>\n",
       "      <td>...</td>\n",
       "    </tr>\n",
       "    <tr>\n",
       "      <th>85</th>\n",
       "      <td>4</td>\n",
       "      <td>4</td>\n",
       "      <td>2</td>\n",
       "      <td>4</td>\n",
       "      <td>2</td>\n",
       "      <td>3</td>\n",
       "      <td>4</td>\n",
       "      <td>4</td>\n",
       "      <td>2</td>\n",
       "      <td>1</td>\n",
       "      <td>...</td>\n",
       "      <td>4</td>\n",
       "      <td>1</td>\n",
       "      <td>1</td>\n",
       "      <td>1</td>\n",
       "      <td>1</td>\n",
       "      <td>1</td>\n",
       "      <td>1</td>\n",
       "      <td>1</td>\n",
       "      <td>56</td>\n",
       "      <td>2</td>\n",
       "    </tr>\n",
       "    <tr>\n",
       "      <th>86</th>\n",
       "      <td>2</td>\n",
       "      <td>4</td>\n",
       "      <td>2</td>\n",
       "      <td>5</td>\n",
       "      <td>3</td>\n",
       "      <td>4</td>\n",
       "      <td>3</td>\n",
       "      <td>3</td>\n",
       "      <td>1</td>\n",
       "      <td>1</td>\n",
       "      <td>...</td>\n",
       "      <td>4</td>\n",
       "      <td>4</td>\n",
       "      <td>4</td>\n",
       "      <td>4</td>\n",
       "      <td>3</td>\n",
       "      <td>5</td>\n",
       "      <td>3</td>\n",
       "      <td>4</td>\n",
       "      <td>27</td>\n",
       "      <td>1</td>\n",
       "    </tr>\n",
       "    <tr>\n",
       "      <th>87</th>\n",
       "      <td>2</td>\n",
       "      <td>5</td>\n",
       "      <td>4</td>\n",
       "      <td>4</td>\n",
       "      <td>2</td>\n",
       "      <td>4</td>\n",
       "      <td>1</td>\n",
       "      <td>3</td>\n",
       "      <td>1</td>\n",
       "      <td>1</td>\n",
       "      <td>...</td>\n",
       "      <td>4</td>\n",
       "      <td>4</td>\n",
       "      <td>5</td>\n",
       "      <td>2</td>\n",
       "      <td>4</td>\n",
       "      <td>5</td>\n",
       "      <td>2</td>\n",
       "      <td>4</td>\n",
       "      <td>31</td>\n",
       "      <td>1</td>\n",
       "    </tr>\n",
       "    <tr>\n",
       "      <th>88</th>\n",
       "      <td>4</td>\n",
       "      <td>3</td>\n",
       "      <td>4</td>\n",
       "      <td>4</td>\n",
       "      <td>3</td>\n",
       "      <td>4</td>\n",
       "      <td>3</td>\n",
       "      <td>2</td>\n",
       "      <td>2</td>\n",
       "      <td>2</td>\n",
       "      <td>...</td>\n",
       "      <td>3</td>\n",
       "      <td>3</td>\n",
       "      <td>3</td>\n",
       "      <td>3</td>\n",
       "      <td>3</td>\n",
       "      <td>3</td>\n",
       "      <td>3</td>\n",
       "      <td>2</td>\n",
       "      <td>47</td>\n",
       "      <td>2</td>\n",
       "    </tr>\n",
       "    <tr>\n",
       "      <th>89</th>\n",
       "      <td>4</td>\n",
       "      <td>4</td>\n",
       "      <td>3</td>\n",
       "      <td>4</td>\n",
       "      <td>4</td>\n",
       "      <td>4</td>\n",
       "      <td>2</td>\n",
       "      <td>3</td>\n",
       "      <td>2</td>\n",
       "      <td>2</td>\n",
       "      <td>...</td>\n",
       "      <td>4</td>\n",
       "      <td>3</td>\n",
       "      <td>5</td>\n",
       "      <td>3</td>\n",
       "      <td>5</td>\n",
       "      <td>4</td>\n",
       "      <td>3</td>\n",
       "      <td>3</td>\n",
       "      <td>34</td>\n",
       "      <td>1</td>\n",
       "    </tr>\n",
       "  </tbody>\n",
       "</table>\n",
       "<p>90 rows × 42 columns</p>\n",
       "</div>"
      ],
      "text/plain": [
       "    AS1  AS2  AS3  AS4  AS5  AS6  AS7  AS8  AS9  AS10  ...  DO3  DO4  DO5  \\\n",
       "0     5    4    4    4    4    4    2    2    2     1  ...    2    2    4   \n",
       "1     2    2    2    2    2    2    4    4    4     2  ...    2    2    2   \n",
       "2     5    3    4    4    4    4    2    3    2     1  ...    2    1    3   \n",
       "3     4    4    3    3    4    3    4    2    3     1  ...    3    3    3   \n",
       "4     2    3    2    2    2    3    3    2    2     4  ...    4    3    5   \n",
       "..  ...  ...  ...  ...  ...  ...  ...  ...  ...   ...  ...  ...  ...  ...   \n",
       "85    4    4    2    4    2    3    4    4    2     1  ...    4    1    1   \n",
       "86    2    4    2    5    3    4    3    3    1     1  ...    4    4    4   \n",
       "87    2    5    4    4    2    4    1    3    1     1  ...    4    4    5   \n",
       "88    4    3    4    4    3    4    3    2    2     2  ...    3    3    3   \n",
       "89    4    4    3    4    4    4    2    3    2     2  ...    4    3    5   \n",
       "\n",
       "    DO6  DO7  DO8  DO9  DO10  age  gender  \n",
       "0     2    2    2    2     2   51       2  \n",
       "1     2    2    2    2     2   31       1  \n",
       "2     3    5    3    1     2   60       2  \n",
       "3     3    2    2    2     2   42       2  \n",
       "4     3    3    3    4     3   39       1  \n",
       "..  ...  ...  ...  ...   ...  ...     ...  \n",
       "85    1    1    1    1     1   56       2  \n",
       "86    4    3    5    3     4   27       1  \n",
       "87    2    4    5    2     4   31       1  \n",
       "88    3    3    3    3     2   47       2  \n",
       "89    3    5    4    3     3   34       1  \n",
       "\n",
       "[90 rows x 42 columns]"
      ]
     },
     "execution_count": 8,
     "metadata": {},
     "output_type": "execute_result"
    }
   ],
   "source": [
    "data2 = pd.read_csv('/kaggle/working/sampled_data.csv')\n",
    "data2"
   ]
  },
  {
   "cell_type": "markdown",
   "id": "eaa489c8",
   "metadata": {
    "papermill": {
     "duration": 0.020821,
     "end_time": "2024-07-18T00:02:45.803489",
     "exception": false,
     "start_time": "2024-07-18T00:02:45.782668",
     "status": "completed"
    },
    "tags": []
   },
   "source": [
    "#### Visualization\n",
    "--Can Ignore--"
   ]
  },
  {
   "cell_type": "code",
   "execution_count": 9,
   "id": "ff26575c",
   "metadata": {
    "_kg_hide-input": true,
    "_kg_hide-output": true,
    "execution": {
     "iopub.execute_input": "2024-07-18T00:02:45.848639Z",
     "iopub.status.busy": "2024-07-18T00:02:45.848226Z",
     "iopub.status.idle": "2024-07-18T00:02:45.853487Z",
     "shell.execute_reply": "2024-07-18T00:02:45.852230Z"
    },
    "papermill": {
     "duration": 0.031506,
     "end_time": "2024-07-18T00:02:45.856142",
     "exception": false,
     "start_time": "2024-07-18T00:02:45.824636",
     "status": "completed"
    },
    "tags": []
   },
   "outputs": [],
   "source": [
    "#for column in datas.columns:\n",
    "#    plt.figure(figsize=(5, 3))\n",
    "#    sns.histplot(data=datas, x=column, kde=True)\n",
    "#    plt.title(f'Distribution of {column}')\n",
    "#    plt.show()"
   ]
  },
  {
   "cell_type": "markdown",
   "id": "8d760a5a",
   "metadata": {
    "papermill": {
     "duration": 0.021034,
     "end_time": "2024-07-18T00:02:45.898682",
     "exception": false,
     "start_time": "2024-07-18T00:02:45.877648",
     "status": "completed"
    },
    "tags": []
   },
   "source": [
    "# Standart Scaler + PCA"
   ]
  },
  {
   "cell_type": "markdown",
   "id": "2cf55a18",
   "metadata": {
    "papermill": {
     "duration": 0.020644,
     "end_time": "2024-07-18T00:02:45.942320",
     "exception": false,
     "start_time": "2024-07-18T00:02:45.921676",
     "status": "completed"
    },
    "tags": []
   },
   "source": [
    "first data"
   ]
  },
  {
   "cell_type": "code",
   "execution_count": 10,
   "id": "6ed91084",
   "metadata": {
    "execution": {
     "iopub.execute_input": "2024-07-18T00:02:45.986232Z",
     "iopub.status.busy": "2024-07-18T00:02:45.985810Z",
     "iopub.status.idle": "2024-07-18T00:02:46.640567Z",
     "shell.execute_reply": "2024-07-18T00:02:46.638850Z"
    },
    "papermill": {
     "duration": 0.683302,
     "end_time": "2024-07-18T00:02:46.646566",
     "exception": false,
     "start_time": "2024-07-18T00:02:45.963264",
     "status": "completed"
    },
    "tags": []
   },
   "outputs": [
    {
     "data": {
      "text/html": [
       "<div>\n",
       "<style scoped>\n",
       "    .dataframe tbody tr th:only-of-type {\n",
       "        vertical-align: middle;\n",
       "    }\n",
       "\n",
       "    .dataframe tbody tr th {\n",
       "        vertical-align: top;\n",
       "    }\n",
       "\n",
       "    .dataframe thead th {\n",
       "        text-align: right;\n",
       "    }\n",
       "</style>\n",
       "<table border=\"1\" class=\"dataframe\">\n",
       "  <thead>\n",
       "    <tr style=\"text-align: right;\">\n",
       "      <th></th>\n",
       "      <th>x</th>\n",
       "      <th>y</th>\n",
       "    </tr>\n",
       "  </thead>\n",
       "  <tbody>\n",
       "    <tr>\n",
       "      <th>0</th>\n",
       "      <td>2.707580</td>\n",
       "      <td>0.915903</td>\n",
       "    </tr>\n",
       "    <tr>\n",
       "      <th>1</th>\n",
       "      <td>-2.907233</td>\n",
       "      <td>-0.302782</td>\n",
       "    </tr>\n",
       "    <tr>\n",
       "      <th>2</th>\n",
       "      <td>2.499083</td>\n",
       "      <td>0.725821</td>\n",
       "    </tr>\n",
       "    <tr>\n",
       "      <th>3</th>\n",
       "      <td>3.127694</td>\n",
       "      <td>4.411626</td>\n",
       "    </tr>\n",
       "    <tr>\n",
       "      <th>4</th>\n",
       "      <td>0.402050</td>\n",
       "      <td>-1.864485</td>\n",
       "    </tr>\n",
       "    <tr>\n",
       "      <th>...</th>\n",
       "      <td>...</td>\n",
       "      <td>...</td>\n",
       "    </tr>\n",
       "    <tr>\n",
       "      <th>893</th>\n",
       "      <td>4.984859</td>\n",
       "      <td>0.254260</td>\n",
       "    </tr>\n",
       "    <tr>\n",
       "      <th>894</th>\n",
       "      <td>0.106854</td>\n",
       "      <td>1.615690</td>\n",
       "    </tr>\n",
       "    <tr>\n",
       "      <th>895</th>\n",
       "      <td>-0.373545</td>\n",
       "      <td>-3.135757</td>\n",
       "    </tr>\n",
       "    <tr>\n",
       "      <th>896</th>\n",
       "      <td>-0.006650</td>\n",
       "      <td>0.752133</td>\n",
       "    </tr>\n",
       "    <tr>\n",
       "      <th>897</th>\n",
       "      <td>-3.951012</td>\n",
       "      <td>-0.470607</td>\n",
       "    </tr>\n",
       "  </tbody>\n",
       "</table>\n",
       "<p>898 rows × 2 columns</p>\n",
       "</div>"
      ],
      "text/plain": [
       "            x         y\n",
       "0    2.707580  0.915903\n",
       "1   -2.907233 -0.302782\n",
       "2    2.499083  0.725821\n",
       "3    3.127694  4.411626\n",
       "4    0.402050 -1.864485\n",
       "..        ...       ...\n",
       "893  4.984859  0.254260\n",
       "894  0.106854  1.615690\n",
       "895 -0.373545 -3.135757\n",
       "896 -0.006650  0.752133\n",
       "897 -3.951012 -0.470607\n",
       "\n",
       "[898 rows x 2 columns]"
      ]
     },
     "execution_count": 10,
     "metadata": {},
     "output_type": "execute_result"
    }
   ],
   "source": [
    "from sklearn.decomposition import PCA\n",
    "from sklearn.preprocessing import StandardScaler\n",
    "\n",
    "# Assuming df is your DataFrame\n",
    "# drop the 'age' and 'gender' columns\n",
    "\n",
    "# Standardize the features to have mean=0 and variance=1\n",
    "scaler = StandardScaler().fit(datas)\n",
    "df_scaled = scaler.transform(datas)\n",
    "\n",
    "# Apply PCA\n",
    "pca = PCA(n_components=2)  # change n_components to the number of dimensions you want\n",
    "principalComponents = pca.fit_transform(df_scaled)\n",
    "\n",
    "# Convert to DataFrame\n",
    "principalDf = pd.DataFrame(data=principalComponents, columns=['x', 'y'])\n",
    "\n",
    "principalDf"
   ]
  },
  {
   "cell_type": "markdown",
   "id": "fb7aa825",
   "metadata": {
    "papermill": {
     "duration": 0.02858,
     "end_time": "2024-07-18T00:02:46.752350",
     "exception": false,
     "start_time": "2024-07-18T00:02:46.723770",
     "status": "completed"
    },
    "tags": []
   },
   "source": [
    "second data"
   ]
  },
  {
   "cell_type": "code",
   "execution_count": 11,
   "id": "0dc025e8",
   "metadata": {
    "execution": {
     "iopub.execute_input": "2024-07-18T00:02:46.800578Z",
     "iopub.status.busy": "2024-07-18T00:02:46.800183Z",
     "iopub.status.idle": "2024-07-18T00:02:46.830311Z",
     "shell.execute_reply": "2024-07-18T00:02:46.829096Z"
    },
    "papermill": {
     "duration": 0.056276,
     "end_time": "2024-07-18T00:02:46.833634",
     "exception": false,
     "start_time": "2024-07-18T00:02:46.777358",
     "status": "completed"
    },
    "tags": []
   },
   "outputs": [
    {
     "data": {
      "text/html": [
       "<div>\n",
       "<style scoped>\n",
       "    .dataframe tbody tr th:only-of-type {\n",
       "        vertical-align: middle;\n",
       "    }\n",
       "\n",
       "    .dataframe tbody tr th {\n",
       "        vertical-align: top;\n",
       "    }\n",
       "\n",
       "    .dataframe thead th {\n",
       "        text-align: right;\n",
       "    }\n",
       "</style>\n",
       "<table border=\"1\" class=\"dataframe\">\n",
       "  <thead>\n",
       "    <tr style=\"text-align: right;\">\n",
       "      <th></th>\n",
       "      <th>x</th>\n",
       "      <th>y</th>\n",
       "    </tr>\n",
       "  </thead>\n",
       "  <tbody>\n",
       "    <tr>\n",
       "      <th>0</th>\n",
       "      <td>-0.494838</td>\n",
       "      <td>-2.065276</td>\n",
       "    </tr>\n",
       "    <tr>\n",
       "      <th>1</th>\n",
       "      <td>7.484281</td>\n",
       "      <td>0.109833</td>\n",
       "    </tr>\n",
       "    <tr>\n",
       "      <th>2</th>\n",
       "      <td>0.580334</td>\n",
       "      <td>-1.096536</td>\n",
       "    </tr>\n",
       "    <tr>\n",
       "      <th>3</th>\n",
       "      <td>2.034679</td>\n",
       "      <td>-0.048849</td>\n",
       "    </tr>\n",
       "    <tr>\n",
       "      <th>4</th>\n",
       "      <td>3.636375</td>\n",
       "      <td>3.197271</td>\n",
       "    </tr>\n",
       "    <tr>\n",
       "      <th>...</th>\n",
       "      <td>...</td>\n",
       "      <td>...</td>\n",
       "    </tr>\n",
       "    <tr>\n",
       "      <th>85</th>\n",
       "      <td>2.192321</td>\n",
       "      <td>-3.502159</td>\n",
       "    </tr>\n",
       "    <tr>\n",
       "      <th>86</th>\n",
       "      <td>1.134049</td>\n",
       "      <td>5.194153</td>\n",
       "    </tr>\n",
       "    <tr>\n",
       "      <th>87</th>\n",
       "      <td>0.892150</td>\n",
       "      <td>3.044867</td>\n",
       "    </tr>\n",
       "    <tr>\n",
       "      <th>88</th>\n",
       "      <td>-0.614401</td>\n",
       "      <td>-0.872903</td>\n",
       "    </tr>\n",
       "    <tr>\n",
       "      <th>89</th>\n",
       "      <td>-3.285846</td>\n",
       "      <td>0.125824</td>\n",
       "    </tr>\n",
       "  </tbody>\n",
       "</table>\n",
       "<p>90 rows × 2 columns</p>\n",
       "</div>"
      ],
      "text/plain": [
       "           x         y\n",
       "0  -0.494838 -2.065276\n",
       "1   7.484281  0.109833\n",
       "2   0.580334 -1.096536\n",
       "3   2.034679 -0.048849\n",
       "4   3.636375  3.197271\n",
       "..       ...       ...\n",
       "85  2.192321 -3.502159\n",
       "86  1.134049  5.194153\n",
       "87  0.892150  3.044867\n",
       "88 -0.614401 -0.872903\n",
       "89 -3.285846  0.125824\n",
       "\n",
       "[90 rows x 2 columns]"
      ]
     },
     "execution_count": 11,
     "metadata": {},
     "output_type": "execute_result"
    }
   ],
   "source": [
    "# Assuming df is your DataFrame\n",
    "# Standardize the features to have mean=0 and variance=1\n",
    "scaler2 = StandardScaler().fit(data2)\n",
    "df_scaled2 = scaler.transform(data2)\n",
    "\n",
    "# Apply PCA\n",
    "pca = PCA(n_components=2)  # change n_components to the number of dimensions you want\n",
    "principalComponents = pca.fit_transform(df_scaled2)\n",
    "\n",
    "# Convert to DataFrame\n",
    "principalDf2 = pd.DataFrame(data=principalComponents, columns=['x', 'y'])\n",
    "\n",
    "principalDf2"
   ]
  },
  {
   "cell_type": "markdown",
   "id": "2a928a6c",
   "metadata": {
    "papermill": {
     "duration": 0.045571,
     "end_time": "2024-07-18T00:02:46.924850",
     "exception": false,
     "start_time": "2024-07-18T00:02:46.879279",
     "status": "completed"
    },
    "tags": []
   },
   "source": [
    "# plot scatter"
   ]
  },
  {
   "cell_type": "code",
   "execution_count": 12,
   "id": "24e6e474",
   "metadata": {
    "execution": {
     "iopub.execute_input": "2024-07-18T00:02:46.978532Z",
     "iopub.status.busy": "2024-07-18T00:02:46.978113Z",
     "iopub.status.idle": "2024-07-18T00:02:47.352367Z",
     "shell.execute_reply": "2024-07-18T00:02:47.351083Z"
    },
    "papermill": {
     "duration": 0.40055,
     "end_time": "2024-07-18T00:02:47.354807",
     "exception": false,
     "start_time": "2024-07-18T00:02:46.954257",
     "status": "completed"
    },
    "tags": []
   },
   "outputs": [
    {
     "data": {
      "image/png": "[encoded data removed]",
      "text/plain": [
       "<Figure size 800x600 with 1 Axes>"
      ]
     },
     "metadata": {},
     "output_type": "display_data"
    }
   ],
   "source": [
    "plt.figure(figsize=(8, 6))\n",
    "plt.scatter(x=principalDf['x'], y=principalDf['y'], alpha=0.6, color='b', marker='o')\n",
    "plt.xlabel('x')\n",
    "plt.ylabel('y')\n",
    "plt.title('Plot scatter')\n",
    "plt.grid(True)\n",
    "plt.show()"
   ]
  },
  {
   "cell_type": "markdown",
   "id": "d6d49edf",
   "metadata": {
    "papermill": {
     "duration": 0.024144,
     "end_time": "2024-07-18T00:02:47.402656",
     "exception": false,
     "start_time": "2024-07-18T00:02:47.378512",
     "status": "completed"
    },
    "tags": []
   },
   "source": [
    "# Cosine Similarity Between Each Others"
   ]
  },
  {
   "cell_type": "code",
   "execution_count": 13,
   "id": "e63ae206",
   "metadata": {
    "execution": {
     "iopub.execute_input": "2024-07-18T00:02:47.513755Z",
     "iopub.status.busy": "2024-07-18T00:02:47.513328Z",
     "iopub.status.idle": "2024-07-18T00:02:51.553064Z",
     "shell.execute_reply": "2024-07-18T00:02:51.551371Z"
    },
    "papermill": {
     "duration": 4.069313,
     "end_time": "2024-07-18T00:02:51.556823",
     "exception": false,
     "start_time": "2024-07-18T00:02:47.487510",
     "status": "completed"
    },
    "tags": []
   },
   "outputs": [
    {
     "name": "stdout",
     "output_type": "stream",
     "text": [
      "        user_id match_id  response\n",
      "0             0        0         1\n",
      "1             1        0         0\n",
      "2             2        0         1\n",
      "3             3        0         1\n",
      "4             4        0         0\n",
      "...         ...      ...       ...\n",
      "806399      893      897         0\n",
      "806400      894      897         0\n",
      "806401      895      897         0\n",
      "806402      896      897         0\n",
      "806403      897      897         1\n",
      "\n",
      "[806404 rows x 3 columns]\n"
     ]
    }
   ],
   "source": [
    "from sklearn.metrics.pairwise import cosine_similarity\n",
    "\n",
    "similarity_matrix = cosine_similarity(principalDf)\n",
    "similarity_df = pd.DataFrame(similarity_matrix, index=principalDf.index, columns=principalDf.index)\n",
    "melted_df = similarity_df.reset_index().melt(id_vars='index', var_name='match_id', value_name='similarity_score')\n",
    "melted_df = melted_df.rename(columns={'index': 'user_id'})\n",
    "\n",
    "# binary\n",
    "threshold = 0.5\n",
    "melted_df['response'] = (melted_df['similarity_score'] >= threshold).astype(int)\n",
    "print(melted_df[['user_id', 'match_id', 'response']])\n",
    "melted_df.to_csv('preprocessed_data.csv')"
   ]
  },
  {
   "cell_type": "code",
   "execution_count": 14,
   "id": "56684338",
   "metadata": {
    "execution": {
     "iopub.execute_input": "2024-07-18T00:02:51.608303Z",
     "iopub.status.busy": "2024-07-18T00:02:51.607742Z",
     "iopub.status.idle": "2024-07-18T00:02:51.673899Z",
     "shell.execute_reply": "2024-07-18T00:02:51.672238Z"
    },
    "papermill": {
     "duration": 0.094588,
     "end_time": "2024-07-18T00:02:51.676824",
     "exception": false,
     "start_time": "2024-07-18T00:02:51.582236",
     "status": "completed"
    },
    "tags": []
   },
   "outputs": [
    {
     "name": "stdout",
     "output_type": "stream",
     "text": [
      "      user_id match_id  response\n",
      "0           0        0         1\n",
      "1           1        0         0\n",
      "2           2        0         1\n",
      "3           3        0         0\n",
      "4           4        0         0\n",
      "...       ...      ...       ...\n",
      "8095       85       89         0\n",
      "8096       86       89         0\n",
      "8097       87       89         0\n",
      "8098       88       89         1\n",
      "8099       89       89         1\n",
      "\n",
      "[8100 rows x 3 columns]\n"
     ]
    }
   ],
   "source": [
    "similarity_matrix2 = cosine_similarity(principalDf2)\n",
    "similarity_df2 = pd.DataFrame(similarity_matrix2, index=principalDf2.index, columns=principalDf2.index)\n",
    "melted_df2 = similarity_df2.reset_index().melt(id_vars='index', var_name='match_id', value_name='similarity_score')\n",
    "melted_df2 = melted_df2.rename(columns={'index': 'user_id'})\n",
    "\n",
    "# binary\n",
    "threshold = 0.5\n",
    "melted_df2['response'] = (melted_df2['similarity_score'] >= threshold).astype(int)\n",
    "print(melted_df2[['user_id', 'match_id', 'response']])\n",
    "melted_df2.to_csv('preprocessed_data2.csv')"
   ]
  },
  {
   "cell_type": "code",
   "execution_count": 15,
   "id": "a8af6464",
   "metadata": {
    "execution": {
     "iopub.execute_input": "2024-07-18T00:02:51.728761Z",
     "iopub.status.busy": "2024-07-18T00:02:51.728345Z",
     "iopub.status.idle": "2024-07-18T00:02:52.337844Z",
     "shell.execute_reply": "2024-07-18T00:02:52.336646Z"
    },
    "papermill": {
     "duration": 0.638195,
     "end_time": "2024-07-18T00:02:52.340422",
     "exception": false,
     "start_time": "2024-07-18T00:02:51.702227",
     "status": "completed"
    },
    "tags": []
   },
   "outputs": [
    {
     "data": {
      "text/html": [
       "<div>\n",
       "<style scoped>\n",
       "    .dataframe tbody tr th:only-of-type {\n",
       "        vertical-align: middle;\n",
       "    }\n",
       "\n",
       "    .dataframe tbody tr th {\n",
       "        vertical-align: top;\n",
       "    }\n",
       "\n",
       "    .dataframe thead th {\n",
       "        text-align: right;\n",
       "    }\n",
       "</style>\n",
       "<table border=\"1\" class=\"dataframe\">\n",
       "  <thead>\n",
       "    <tr style=\"text-align: right;\">\n",
       "      <th></th>\n",
       "      <th>Unnamed: 0</th>\n",
       "      <th>user_id</th>\n",
       "      <th>match_id</th>\n",
       "      <th>similarity_score</th>\n",
       "      <th>response</th>\n",
       "    </tr>\n",
       "  </thead>\n",
       "  <tbody>\n",
       "    <tr>\n",
       "      <th>0</th>\n",
       "      <td>0</td>\n",
       "      <td>0</td>\n",
       "      <td>0</td>\n",
       "      <td>1.000000</td>\n",
       "      <td>1</td>\n",
       "    </tr>\n",
       "    <tr>\n",
       "      <th>1</th>\n",
       "      <td>1</td>\n",
       "      <td>1</td>\n",
       "      <td>0</td>\n",
       "      <td>-0.975367</td>\n",
       "      <td>0</td>\n",
       "    </tr>\n",
       "    <tr>\n",
       "      <th>2</th>\n",
       "      <td>2</td>\n",
       "      <td>2</td>\n",
       "      <td>0</td>\n",
       "      <td>0.999053</td>\n",
       "      <td>1</td>\n",
       "    </tr>\n",
       "    <tr>\n",
       "      <th>3</th>\n",
       "      <td>3</td>\n",
       "      <td>3</td>\n",
       "      <td>0</td>\n",
       "      <td>0.809270</td>\n",
       "      <td>1</td>\n",
       "    </tr>\n",
       "    <tr>\n",
       "      <th>4</th>\n",
       "      <td>4</td>\n",
       "      <td>4</td>\n",
       "      <td>0</td>\n",
       "      <td>-0.113561</td>\n",
       "      <td>0</td>\n",
       "    </tr>\n",
       "    <tr>\n",
       "      <th>...</th>\n",
       "      <td>...</td>\n",
       "      <td>...</td>\n",
       "      <td>...</td>\n",
       "      <td>...</td>\n",
       "      <td>...</td>\n",
       "    </tr>\n",
       "    <tr>\n",
       "      <th>806399</th>\n",
       "      <td>806399</td>\n",
       "      <td>893</td>\n",
       "      <td>897</td>\n",
       "      <td>-0.997717</td>\n",
       "      <td>0</td>\n",
       "    </tr>\n",
       "    <tr>\n",
       "      <th>806400</th>\n",
       "      <td>806400</td>\n",
       "      <td>894</td>\n",
       "      <td>897</td>\n",
       "      <td>-0.183544</td>\n",
       "      <td>0</td>\n",
       "    </tr>\n",
       "    <tr>\n",
       "      <th>806401</th>\n",
       "      <td>806401</td>\n",
       "      <td>895</td>\n",
       "      <td>897</td>\n",
       "      <td>0.234902</td>\n",
       "      <td>0</td>\n",
       "    </tr>\n",
       "    <tr>\n",
       "      <th>806402</th>\n",
       "      <td>806402</td>\n",
       "      <td>896</td>\n",
       "      <td>897</td>\n",
       "      <td>-0.109490</td>\n",
       "      <td>0</td>\n",
       "    </tr>\n",
       "    <tr>\n",
       "      <th>806403</th>\n",
       "      <td>806403</td>\n",
       "      <td>897</td>\n",
       "      <td>897</td>\n",
       "      <td>1.000000</td>\n",
       "      <td>1</td>\n",
       "    </tr>\n",
       "  </tbody>\n",
       "</table>\n",
       "<p>806404 rows × 5 columns</p>\n",
       "</div>"
      ],
      "text/plain": [
       "        Unnamed: 0  user_id  match_id  similarity_score  response\n",
       "0                0        0         0          1.000000         1\n",
       "1                1        1         0         -0.975367         0\n",
       "2                2        2         0          0.999053         1\n",
       "3                3        3         0          0.809270         1\n",
       "4                4        4         0         -0.113561         0\n",
       "...            ...      ...       ...               ...       ...\n",
       "806399      806399      893       897         -0.997717         0\n",
       "806400      806400      894       897         -0.183544         0\n",
       "806401      806401      895       897          0.234902         0\n",
       "806402      806402      896       897         -0.109490         0\n",
       "806403      806403      897       897          1.000000         1\n",
       "\n",
       "[806404 rows x 5 columns]"
      ]
     },
     "execution_count": 15,
     "metadata": {},
     "output_type": "execute_result"
    }
   ],
   "source": [
    "predf = pd.read_csv('/kaggle/working/preprocessed_data.csv')\n",
    "predf"
   ]
  },
  {
   "cell_type": "code",
   "execution_count": 16,
   "id": "ab798d38",
   "metadata": {
    "execution": {
     "iopub.execute_input": "2024-07-18T00:02:52.391254Z",
     "iopub.status.busy": "2024-07-18T00:02:52.389839Z",
     "iopub.status.idle": "2024-07-18T00:02:52.414493Z",
     "shell.execute_reply": "2024-07-18T00:02:52.413269Z"
    },
    "papermill": {
     "duration": 0.053213,
     "end_time": "2024-07-18T00:02:52.417528",
     "exception": false,
     "start_time": "2024-07-18T00:02:52.364315",
     "status": "completed"
    },
    "tags": []
   },
   "outputs": [
    {
     "data": {
      "text/html": [
       "<div>\n",
       "<style scoped>\n",
       "    .dataframe tbody tr th:only-of-type {\n",
       "        vertical-align: middle;\n",
       "    }\n",
       "\n",
       "    .dataframe tbody tr th {\n",
       "        vertical-align: top;\n",
       "    }\n",
       "\n",
       "    .dataframe thead th {\n",
       "        text-align: right;\n",
       "    }\n",
       "</style>\n",
       "<table border=\"1\" class=\"dataframe\">\n",
       "  <thead>\n",
       "    <tr style=\"text-align: right;\">\n",
       "      <th></th>\n",
       "      <th>Unnamed: 0</th>\n",
       "      <th>user_id</th>\n",
       "      <th>match_id</th>\n",
       "      <th>similarity_score</th>\n",
       "      <th>response</th>\n",
       "    </tr>\n",
       "  </thead>\n",
       "  <tbody>\n",
       "    <tr>\n",
       "      <th>0</th>\n",
       "      <td>0</td>\n",
       "      <td>0</td>\n",
       "      <td>0</td>\n",
       "      <td>1.000000</td>\n",
       "      <td>1</td>\n",
       "    </tr>\n",
       "    <tr>\n",
       "      <th>1</th>\n",
       "      <td>1</td>\n",
       "      <td>1</td>\n",
       "      <td>0</td>\n",
       "      <td>-0.247249</td>\n",
       "      <td>0</td>\n",
       "    </tr>\n",
       "    <tr>\n",
       "      <th>2</th>\n",
       "      <td>2</td>\n",
       "      <td>2</td>\n",
       "      <td>0</td>\n",
       "      <td>0.750529</td>\n",
       "      <td>1</td>\n",
       "    </tr>\n",
       "    <tr>\n",
       "      <th>3</th>\n",
       "      <td>3</td>\n",
       "      <td>3</td>\n",
       "      <td>0</td>\n",
       "      <td>-0.209596</td>\n",
       "      <td>0</td>\n",
       "    </tr>\n",
       "    <tr>\n",
       "      <th>4</th>\n",
       "      <td>4</td>\n",
       "      <td>4</td>\n",
       "      <td>0</td>\n",
       "      <td>-0.817119</td>\n",
       "      <td>0</td>\n",
       "    </tr>\n",
       "    <tr>\n",
       "      <th>...</th>\n",
       "      <td>...</td>\n",
       "      <td>...</td>\n",
       "      <td>...</td>\n",
       "      <td>...</td>\n",
       "      <td>...</td>\n",
       "    </tr>\n",
       "    <tr>\n",
       "      <th>8095</th>\n",
       "      <td>8095</td>\n",
       "      <td>85</td>\n",
       "      <td>89</td>\n",
       "      <td>-0.562648</td>\n",
       "      <td>0</td>\n",
       "    </tr>\n",
       "    <tr>\n",
       "      <th>8096</th>\n",
       "      <td>8096</td>\n",
       "      <td>86</td>\n",
       "      <td>89</td>\n",
       "      <td>-0.175767</td>\n",
       "      <td>0</td>\n",
       "    </tr>\n",
       "    <tr>\n",
       "      <th>8097</th>\n",
       "      <td>8097</td>\n",
       "      <td>87</td>\n",
       "      <td>89</td>\n",
       "      <td>-0.244253</td>\n",
       "      <td>0</td>\n",
       "    </tr>\n",
       "    <tr>\n",
       "      <th>8098</th>\n",
       "      <td>8098</td>\n",
       "      <td>88</td>\n",
       "      <td>89</td>\n",
       "      <td>0.543867</td>\n",
       "      <td>1</td>\n",
       "    </tr>\n",
       "    <tr>\n",
       "      <th>8099</th>\n",
       "      <td>8099</td>\n",
       "      <td>89</td>\n",
       "      <td>89</td>\n",
       "      <td>1.000000</td>\n",
       "      <td>1</td>\n",
       "    </tr>\n",
       "  </tbody>\n",
       "</table>\n",
       "<p>8100 rows × 5 columns</p>\n",
       "</div>"
      ],
      "text/plain": [
       "      Unnamed: 0  user_id  match_id  similarity_score  response\n",
       "0              0        0         0          1.000000         1\n",
       "1              1        1         0         -0.247249         0\n",
       "2              2        2         0          0.750529         1\n",
       "3              3        3         0         -0.209596         0\n",
       "4              4        4         0         -0.817119         0\n",
       "...          ...      ...       ...               ...       ...\n",
       "8095        8095       85        89         -0.562648         0\n",
       "8096        8096       86        89         -0.175767         0\n",
       "8097        8097       87        89         -0.244253         0\n",
       "8098        8098       88        89          0.543867         1\n",
       "8099        8099       89        89          1.000000         1\n",
       "\n",
       "[8100 rows x 5 columns]"
      ]
     },
     "execution_count": 16,
     "metadata": {},
     "output_type": "execute_result"
    }
   ],
   "source": [
    "predf2 = pd.read_csv('/kaggle/working/preprocessed_data2.csv')\n",
    "predf2"
   ]
  },
  {
   "cell_type": "markdown",
   "id": "34a53fe9",
   "metadata": {
    "papermill": {
     "duration": 0.025619,
     "end_time": "2024-07-18T00:02:52.467753",
     "exception": false,
     "start_time": "2024-07-18T00:02:52.442134",
     "status": "completed"
    },
    "tags": []
   },
   "source": [
    "# Recommender\n",
    "Learning Policy:\n",
    "\n",
    "- Greedy (epsilon)\n",
    "- Linear Greedy\n",
    "- Linear Greedy (with epsilon)\n",
    "- Thompson Sampling  \n",
    "Usage Guide:  \n",
    "num arm = num of items  \n",
    "num rounds = num of iteration  "
   ]
  },
  {
   "cell_type": "code",
   "execution_count": 17,
   "id": "76db98f2",
   "metadata": {
    "execution": {
     "iopub.execute_input": "2024-07-18T00:02:52.519518Z",
     "iopub.status.busy": "2024-07-18T00:02:52.519098Z",
     "iopub.status.idle": "2024-07-18T00:02:52.524764Z",
     "shell.execute_reply": "2024-07-18T00:02:52.523537Z"
    },
    "papermill": {
     "duration": 0.034134,
     "end_time": "2024-07-18T00:02:52.527356",
     "exception": false,
     "start_time": "2024-07-18T00:02:52.493222",
     "status": "completed"
    },
    "tags": []
   },
   "outputs": [],
   "source": [
    "data = predf # dataframe\n",
    "num_arms = 100 # Number of matches\n",
    "epsilon = 0.5  # Exploration rate\n",
    "num_rounds = 1000  # Number of rounds to simulate"
   ]
  },
  {
   "cell_type": "markdown",
   "id": "5a67d474",
   "metadata": {
    "papermill": {
     "duration": 0.026143,
     "end_time": "2024-07-18T00:02:52.579827",
     "exception": false,
     "start_time": "2024-07-18T00:02:52.553684",
     "status": "completed"
    },
    "tags": []
   },
   "source": [
    "## Epsilon Greedy"
   ]
  },
  {
   "cell_type": "code",
   "execution_count": 18,
   "id": "0e7f25c6",
   "metadata": {
    "execution": {
     "iopub.execute_input": "2024-07-18T00:02:52.633438Z",
     "iopub.status.busy": "2024-07-18T00:02:52.632967Z",
     "iopub.status.idle": "2024-07-18T00:02:52.643510Z",
     "shell.execute_reply": "2024-07-18T00:02:52.642346Z"
    },
    "papermill": {
     "duration": 0.041998,
     "end_time": "2024-07-18T00:02:52.646521",
     "exception": false,
     "start_time": "2024-07-18T00:02:52.604523",
     "status": "completed"
    },
    "tags": []
   },
   "outputs": [],
   "source": [
    "def epsilon_greedy_bandit(dataset, num_arms, epsilon, num_rounds):\n",
    "    estimated_rewards = [0] * num_arms\n",
    "    num_selected = [0] * num_arms\n",
    "    total_rewards = 0\n",
    "    exploration_count = 0\n",
    "    exploitation_count = 0\n",
    "\n",
    "    for _ in range(num_rounds):\n",
    "        if random.random() < epsilon:\n",
    "            # Explore: Choose a random arm\n",
    "            chosen_arm = random.randint(0, num_arms - 1)\n",
    "            exploration_count += 1\n",
    "        else:\n",
    "            # Exploit: Choose the arm with the highest estimated reward\n",
    "            chosen_arm = max(range(num_arms), key=lambda arm: estimated_rewards[arm])\n",
    "            exploitation_count += 1\n",
    "\n",
    "        # Randomly select an observation for the chosen arm from the dataset\n",
    "        chosen_row = dataset[dataset['match_id'] == chosen_arm].sample(n=1)\n",
    "        \n",
    "        # Observe the reward (response) for the chosen arm\n",
    "        reward = chosen_row['response'].values[0]\n",
    "        total_rewards += reward\n",
    "\n",
    "        # Update the estimated reward for the chosen arm\n",
    "        num_selected[chosen_arm] += 1\n",
    "        estimated_rewards[chosen_arm] += (reward - estimated_rewards[chosen_arm]) / num_selected[chosen_arm]\n",
    "\n",
    "    return estimated_rewards, num_selected, exploration_count, exploitation_count, total_rewards\n"
   ]
  },
  {
   "cell_type": "code",
   "execution_count": 19,
   "id": "1e93cd3a",
   "metadata": {
    "execution": {
     "iopub.execute_input": "2024-07-18T00:02:52.704226Z",
     "iopub.status.busy": "2024-07-18T00:02:52.703734Z",
     "iopub.status.idle": "2024-07-18T00:02:52.710863Z",
     "shell.execute_reply": "2024-07-18T00:02:52.709685Z"
    },
    "papermill": {
     "duration": 0.038005,
     "end_time": "2024-07-18T00:02:52.713574",
     "exception": false,
     "start_time": "2024-07-18T00:02:52.675569",
     "status": "completed"
    },
    "tags": []
   },
   "outputs": [],
   "source": [
    "def run_multiple_experiments(data, num_arms, epsilon, num_rounds, num_experiments):\n",
    "    total_rewards_array = []\n",
    "\n",
    "    for _ in range(num_experiments):\n",
    "        results = epsilon_greedy_bandit(data, num_arms, epsilon, num_rounds)\n",
    "        total_rewards_array.append(results[4])\n",
    "\n",
    "    mean_total_rewards = np.mean(total_rewards_array)\n",
    "    return mean_total_rewards, total_rewards_array"
   ]
  },
  {
   "cell_type": "markdown",
   "id": "aa039ae3",
   "metadata": {
    "papermill": {
     "duration": 0.024034,
     "end_time": "2024-07-18T00:02:52.762301",
     "exception": false,
     "start_time": "2024-07-18T00:02:52.738267",
     "status": "completed"
    },
    "tags": []
   },
   "source": [
    "**usage**"
   ]
  },
  {
   "cell_type": "code",
   "execution_count": 20,
   "id": "018589b0",
   "metadata": {
    "execution": {
     "iopub.execute_input": "2024-07-18T00:02:52.813274Z",
     "iopub.status.busy": "2024-07-18T00:02:52.812834Z",
     "iopub.status.idle": "2024-07-18T00:02:54.229309Z",
     "shell.execute_reply": "2024-07-18T00:02:54.228070Z"
    },
    "papermill": {
     "duration": 1.445159,
     "end_time": "2024-07-18T00:02:54.231883",
     "exception": false,
     "start_time": "2024-07-18T00:02:52.786724",
     "status": "completed"
    },
    "tags": []
   },
   "outputs": [
    {
     "name": "stdout",
     "output_type": "stream",
     "text": [
      "Estimated rewards for each arm: [0.3571428571428571, 0.16666666666666669, 0.25000000000000006, 0.33333333333333337, 0.48148148148148157, 0.4, 0.0, 0.3333333333333333, 0.4736842105263158, 0.39999999999999997, 0.45454545454545453, 0.25000000000000006, 0.4874999999999999, 0.2, 0.16666666666666669, 0.4117647058823529, 0.3, 0.3, 0.25, 0.28571428571428575, 0.0, 0.25, 0.22222222222222227, 0.25, 0.3125, 0.0, 0.0, 0.375, 0.0, 0.0, 0.45833333333333337, 0.0, 0.0, 0.4444444444444444, 0.14285714285714288, 0.4444444444444444, 0.4285714285714286, 0.45000000000000007, 0.33333333333333337, 0.47169811320754723, 0.0, 0.10000000000000002, 0.39999999999999997, 0.14285714285714288, 0.16666666666666669, 0.0, 0.3333333333333333, 0.33333333333333337, 0.4444444444444444, 0.25, 0.28571428571428575, 0.36363636363636365, 0.0, 0.2, 0.33333333333333337, 0.25, 0.25, 0.25, 0.41666666666666663, 0.41666666666666663, 0.14285714285714288, 0.25, 0.2857142857142857, 0.33333333333333337, 0.45, 0.0, 0.3333333333333333, 0.0, 0.25, 0.45454545454545453, 0.2, 0.24999999999999997, 0.2, 0.45454545454545453, 0.33333333333333337, 0.0, 0.4444444444444444, 0.28571428571428575, 0.0, 0.4, 0.4285714285714286, 0.0, 0.33333333333333337, 0.33333333333333337, 0.4, 0.3, 0.09999999999999999, 0.2, 0.4482758620689656, 0.44444444444444453, 0.45454545454545453, 0.25, 0.0, 0.25, 0.33333333333333337, 0.16666666666666669, 0.0, 0.4285714285714286, 0.4, 0.4285714285714286]\n",
      "Number of times each arm was selected: [14, 6, 8, 6, 27, 5, 5, 3, 19, 15, 11, 8, 160, 5, 6, 17, 10, 10, 4, 7, 2, 4, 9, 4, 16, 2, 4, 8, 2, 7, 24, 2, 1, 9, 7, 9, 7, 40, 6, 53, 1, 10, 10, 7, 6, 3, 3, 6, 9, 8, 7, 11, 3, 5, 6, 4, 4, 4, 24, 24, 7, 4, 7, 6, 20, 3, 3, 4, 8, 11, 5, 12, 5, 11, 6, 1, 9, 7, 1, 5, 7, 3, 3, 6, 5, 10, 10, 5, 29, 18, 11, 4, 3, 4, 3, 6, 2, 7, 5, 7]\n",
      "Exploration count: 488\n",
      "Exploitation count: 512\n",
      "Total rewards: 366\n"
     ]
    }
   ],
   "source": [
    "results = epsilon_greedy_bandit(data, num_arms, epsilon, num_rounds)\n",
    "print(\"Estimated rewards for each arm:\", results[0])\n",
    "print(\"Number of times each arm was selected:\", results[1])\n",
    "print(\"Exploration count:\", results[2])\n",
    "print(\"Exploitation count:\", results[3])\n",
    "print(\"Total rewards:\", results[4])"
   ]
  },
  {
   "cell_type": "markdown",
   "id": "1a57d850",
   "metadata": {
    "papermill": {
     "duration": 0.024229,
     "end_time": "2024-07-18T00:02:54.280831",
     "exception": false,
     "start_time": "2024-07-18T00:02:54.256602",
     "status": "completed"
    },
    "tags": []
   },
   "source": [
    "## Thompson Sampling"
   ]
  },
  {
   "cell_type": "code",
   "execution_count": 21,
   "id": "7b9bba04",
   "metadata": {
    "execution": {
     "iopub.execute_input": "2024-07-18T00:02:54.332226Z",
     "iopub.status.busy": "2024-07-18T00:02:54.331751Z",
     "iopub.status.idle": "2024-07-18T00:02:54.341436Z",
     "shell.execute_reply": "2024-07-18T00:02:54.340196Z"
    },
    "papermill": {
     "duration": 0.038159,
     "end_time": "2024-07-18T00:02:54.343956",
     "exception": false,
     "start_time": "2024-07-18T00:02:54.305797",
     "status": "completed"
    },
    "tags": []
   },
   "outputs": [],
   "source": [
    "def thompson_sampling_bandit(dataset, num_arms, num_rounds):\n",
    "    # Parameters for the Beta distribution of each arm: successes (alpha) and failures (beta)\n",
    "    alpha = np.ones(num_arms)\n",
    "    beta = np.ones(num_arms)\n",
    "    \n",
    "    total_rewards = 0\n",
    "\n",
    "    # Iterate through the specified number of rounds\n",
    "    for _ in range(num_rounds):\n",
    "        # Sample from the Beta distribution for each arm\n",
    "        theta = [np.random.beta(alpha[i] + 1, beta[i] + 1) for i in range(num_arms)]\n",
    "        \n",
    "        # Choose the arm with the highest sampled probability\n",
    "        chosen_arm = np.argmax(theta)\n",
    "\n",
    "        # Randomly select an observation for the chosen arm from the dataset\n",
    "        # Here, filtering dataset where 'match_id' equals chosen_arm and sampling one row\n",
    "        chosen_row = dataset[dataset['match_id'] == chosen_arm].sample(n=1)\n",
    "        \n",
    "        # Observe the reward (response) for the chosen arm\n",
    "        reward = chosen_row['response'].values[0]\n",
    "        total_rewards += reward\n",
    "        \n",
    "        # Update the alpha and beta for the chosen arm based on the reward\n",
    "        if reward > 0:\n",
    "            alpha[chosen_arm] += 1\n",
    "        else:\n",
    "            beta[chosen_arm] += 1\n",
    "\n",
    "    return alpha, beta, total_rewards"
   ]
  },
  {
   "cell_type": "code",
   "execution_count": 22,
   "id": "fe8b0ba7",
   "metadata": {
    "execution": {
     "iopub.execute_input": "2024-07-18T00:02:54.394975Z",
     "iopub.status.busy": "2024-07-18T00:02:54.394565Z",
     "iopub.status.idle": "2024-07-18T00:02:54.401595Z",
     "shell.execute_reply": "2024-07-18T00:02:54.400249Z"
    },
    "papermill": {
     "duration": 0.035647,
     "end_time": "2024-07-18T00:02:54.404321",
     "exception": false,
     "start_time": "2024-07-18T00:02:54.368674",
     "status": "completed"
    },
    "tags": []
   },
   "outputs": [],
   "source": [
    "def run_thompson_sampling_experiments(data, num_arms, num_rounds, num_experiments):\n",
    "    total_rewards_array = []\n",
    "\n",
    "    for _ in range(num_experiments):\n",
    "        results = thompson_sampling_bandit(data, num_arms, num_rounds)\n",
    "        total_rewards_array.append(results[2])\n",
    "\n",
    "    mean_total_rewards = np.mean(total_rewards_array)\n",
    "    return mean_total_rewards, total_rewards_array"
   ]
  },
  {
   "cell_type": "code",
   "execution_count": 23,
   "id": "bbdb20e0",
   "metadata": {
    "execution": {
     "iopub.execute_input": "2024-07-18T00:02:54.456483Z",
     "iopub.status.busy": "2024-07-18T00:02:54.456005Z",
     "iopub.status.idle": "2024-07-18T00:02:56.166455Z",
     "shell.execute_reply": "2024-07-18T00:02:56.165304Z"
    },
    "papermill": {
     "duration": 1.739446,
     "end_time": "2024-07-18T00:02:56.169376",
     "exception": false,
     "start_time": "2024-07-18T00:02:54.429930",
     "status": "completed"
    },
    "tags": []
   },
   "outputs": [
    {
     "name": "stdout",
     "output_type": "stream",
     "text": [
      "Updated alpha and beta parameters: (array([ 5.,  9.,  1.,  4.,  1.,  5.,  2.,  6.,  4.,  3.,  2.,  2.,  4.,\n",
      "        4.,  8.,  5.,  4.,  6.,  2.,  9., 11.,  2.,  1.,  4.,  1.,  1.,\n",
      "        8.,  6.,  4.,  5.,  1.,  5.,  4., 13.,  3.,  1.,  2.,  1.,  2.,\n",
      "        3.,  1.,  3., 10.,  2.,  3., 11.,  2.,  3., 12.,  6., 13.,  2.,\n",
      "        3.,  7.,  7.,  4., 13.,  2.,  1., 10.,  3.,  1.,  2.,  1.,  9.,\n",
      "        4., 11.,  9., 10.,  7.,  4.,  7.,  3., 14.,  1.,  2.,  4.,  6.,\n",
      "        4.,  1.,  7.,  2.,  2.,  1.,  6.,  1.,  6.,  8.,  8.,  2.,  3.,\n",
      "        1.,  2.,  1.,  3.,  5.,  1.,  2.,  7.,  1.]), array([ 9.,  9.,  5.,  6.,  6.,  9.,  5., 10.,  6.,  7.,  5.,  6.,  6.,\n",
      "        9., 10.,  7.,  7.,  7.,  6., 10., 11.,  6.,  4.,  8.,  6.,  6.,\n",
      "       10.,  8.,  8.,  9.,  7.,  7.,  8., 12.,  6.,  5.,  6.,  5.,  7.,\n",
      "        5.,  6.,  7., 10.,  6.,  6., 12.,  6.,  6., 11.,  7., 14.,  7.,\n",
      "        7.,  8.,  9.,  7., 11.,  7.,  5., 13.,  7.,  4.,  5.,  5., 10.,\n",
      "        8., 12., 11.,  9.,  9.,  7.,  7.,  7., 14.,  4.,  5.,  7.,  9.,\n",
      "        8.,  6.,  9.,  7.,  6.,  6.,  8.,  5.,  9., 11., 10.,  5.,  8.,\n",
      "        5.,  5.,  5.,  7.,  8.,  6.,  5., 10.,  6.]))\n",
      "Total rewards accumulated: 351\n"
     ]
    }
   ],
   "source": [
    "results = thompson_sampling_bandit(data, num_arms, num_rounds)\n",
    "print(\"Updated alpha and beta parameters:\", results[0:2])\n",
    "print(\"Total rewards accumulated:\", results[2])"
   ]
  },
  {
   "cell_type": "markdown",
   "id": "b52dcc7d",
   "metadata": {
    "papermill": {
     "duration": 0.024863,
     "end_time": "2024-07-18T00:02:56.219303",
     "exception": false,
     "start_time": "2024-07-18T00:02:56.194440",
     "status": "completed"
    },
    "tags": []
   },
   "source": [
    "## Linear Greedy"
   ]
  },
  {
   "cell_type": "code",
   "execution_count": 24,
   "id": "23493b00",
   "metadata": {
    "execution": {
     "iopub.execute_input": "2024-07-18T00:02:56.270671Z",
     "iopub.status.busy": "2024-07-18T00:02:56.270250Z",
     "iopub.status.idle": "2024-07-18T00:02:56.285141Z",
     "shell.execute_reply": "2024-07-18T00:02:56.283859Z"
    },
    "papermill": {
     "duration": 0.043541,
     "end_time": "2024-07-18T00:02:56.287638",
     "exception": false,
     "start_time": "2024-07-18T00:02:56.244097",
     "status": "completed"
    },
    "tags": []
   },
   "outputs": [],
   "source": [
    "from sklearn.linear_model import LinearRegression\n",
    "\n",
    "def linear_greedy_bandit_epsilon(dataset, num_arms, epsilon, num_rounds):\n",
    "    model = LinearRegression()\n",
    "    total_rewards = 0\n",
    "    chosen_arms = []\n",
    "    count_explore = 0\n",
    "    count_exploit = 0\n",
    "    \n",
    "    # Initialize the dataset for training the model\n",
    "    training_data = pd.DataFrame()\n",
    "    for arm in range(num_arms):\n",
    "        arm_data = dataset[dataset['match_id'] == arm]\n",
    "        if not arm_data.empty:\n",
    "            training_data = pd.concat([training_data, arm_data.iloc[:1]], ignore_index=True)\n",
    "\n",
    "    # Training the model on initial data if available\n",
    "    if not training_data.empty:\n",
    "        model.fit(training_data[['similarity_score']], training_data['response'])\n",
    "\n",
    "        for _ in range(num_rounds):\n",
    "            # Exploration vs. Exploitation\n",
    "            if random.random() < epsilon:\n",
    "                # Explore: Randomly select an arm\n",
    "                chosen_arm_index = dataset.sample(n=1).index.item()\n",
    "                count_explore += 1\n",
    "            else:\n",
    "                # Exploit: Select the arm with the highest predicted reward\n",
    "                predictions = model.predict(dataset[['similarity_score']])\n",
    "                dataset['predicted_reward'] = predictions\n",
    "                max_indices = dataset.groupby('match_id')['predicted_reward'].idxmax()\n",
    "                chosen_arm_index = dataset.loc[max_indices].sample(n=1).index.item()\n",
    "                count_exploit += 1\n",
    "            \n",
    "            # Observe the reward and the chosen arm\n",
    "            reward = dataset.at[chosen_arm_index, 'response']\n",
    "            total_rewards += reward\n",
    "            chosen_arm = dataset.at[chosen_arm_index, 'match_id']\n",
    "            chosen_arms.append(chosen_arm)\n",
    "            \n",
    "            # Add this data point to the training dataset\n",
    "            training_data = pd.concat([training_data, dataset.loc[chosen_arm_index:chosen_arm_index]], ignore_index=True)\n",
    "            \n",
    "            # Re-train the model with the updated training data\n",
    "            model.fit(training_data[['similarity_score']], training_data['response'])\n",
    "\n",
    "    # Calculate estimated total reward using the trained model\n",
    "    predicted_rewards = model.predict(dataset[['similarity_score']])\n",
    "    estimated_reward = np.mean(predicted_rewards) * num_rounds  # Scale by the number of rounds\n",
    "\n",
    "    return chosen_arms, total_rewards, count_explore, count_exploit, estimated_reward"
   ]
  },
  {
   "cell_type": "code",
   "execution_count": 25,
   "id": "03057c7c",
   "metadata": {
    "execution": {
     "iopub.execute_input": "2024-07-18T00:02:56.340099Z",
     "iopub.status.busy": "2024-07-18T00:02:56.339041Z",
     "iopub.status.idle": "2024-07-18T00:02:56.346305Z",
     "shell.execute_reply": "2024-07-18T00:02:56.344970Z"
    },
    "papermill": {
     "duration": 0.035644,
     "end_time": "2024-07-18T00:02:56.348582",
     "exception": false,
     "start_time": "2024-07-18T00:02:56.312938",
     "status": "completed"
    },
    "tags": []
   },
   "outputs": [],
   "source": [
    "def run_linear_greedy_experiments(data, num_arms, epsilon, num_rounds, num_experiments):\n",
    "    total_rewards_array = []\n",
    "\n",
    "    for _ in range(num_experiments):\n",
    "        results = linear_greedy_bandit_epsilon(data, num_arms, epsilon, num_rounds)\n",
    "        total_rewards_array.append(results[1])  # Assuming results[1] is the total rewards accumulated\n",
    "\n",
    "    mean_total_rewards = np.mean(total_rewards_array)\n",
    "    return mean_total_rewards, total_rewards_array"
   ]
  },
  {
   "cell_type": "code",
   "execution_count": 26,
   "id": "ae1a6e4d",
   "metadata": {
    "execution": {
     "iopub.execute_input": "2024-07-18T00:02:56.399597Z",
     "iopub.status.busy": "2024-07-18T00:02:56.399197Z",
     "iopub.status.idle": "2024-07-18T00:03:27.465686Z",
     "shell.execute_reply": "2024-07-18T00:03:27.464204Z"
    },
    "papermill": {
     "duration": 31.120276,
     "end_time": "2024-07-18T00:03:27.493748",
     "exception": false,
     "start_time": "2024-07-18T00:02:56.373472",
     "status": "completed"
    },
    "tags": []
   },
   "outputs": [
    {
     "name": "stdout",
     "output_type": "stream",
     "text": [
      "Chosen arms per round: [646, 512, 832, 602, 9, 424, 693, 185, 642, 425, 39, 517, 752, 636, 39, 387, 319, 408, 327, 64, 321, 216, 670, 213, 208, 251, 731, 272, 825, 304, 8, 893, 130, 483, 44, 703, 32, 687, 648, 31, 371, 75, 833, 337, 480, 273, 740, 275, 358, 788, 465, 604, 790, 291, 308, 168, 84, 393, 83, 384, 77, 647, 5, 556, 292, 231, 698, 886, 853, 27, 691, 168, 431, 284, 627, 208, 802, 270, 585, 367, 566, 822, 873, 717, 491, 878, 758, 788, 763, 263, 315, 804, 511, 708, 90, 443, 73, 699, 442, 659, 599, 39, 702, 761, 479, 614, 42, 134, 319, 150, 817, 301, 270, 726, 510, 39, 313, 345, 205, 27, 469, 539, 460, 347, 866, 691, 694, 729, 399, 631, 2, 445, 291, 875, 333, 893, 555, 562, 202, 229, 438, 607, 844, 27, 792, 574, 400, 685, 57, 579, 405, 609, 148, 578, 772, 576, 687, 707, 589, 870, 41, 667, 525, 721, 259, 856, 873, 251, 22, 336, 691, 854, 405, 4, 267, 226, 563, 159, 741, 638, 5, 673, 761, 327, 335, 655, 716, 842, 242, 557, 255, 495, 316, 494, 867, 222, 469, 628, 410, 168, 575, 324, 811, 255, 120, 756, 66, 680, 307, 384, 726, 537, 163, 566, 259, 608, 632, 742, 328, 368, 180, 709, 568, 30, 490, 409, 421, 762, 437, 869, 185, 349, 317, 523, 424, 161, 207, 260, 386, 714, 82, 26, 127, 732, 897, 688, 255, 749, 512, 134, 685, 551, 91, 821, 496, 479, 46, 250, 855, 421, 541, 372, 276, 846, 309, 465, 795, 329, 359, 306, 598, 269, 188, 749, 461, 788, 803, 185, 213, 524, 307, 148, 175, 824, 106, 344, 376, 554, 352, 105, 831, 522, 839, 55, 474, 231, 160, 744, 51, 897, 459, 604, 286, 709, 174, 76, 404, 726, 299, 396, 276, 68, 646, 59, 669, 26, 667, 841, 385, 65, 58, 245, 757, 220, 423, 401, 62, 759, 344, 878, 507, 533, 638, 873, 392, 109, 271, 561, 589, 148, 454, 318, 766, 87, 791, 710, 403, 31, 697, 568, 270, 814, 732, 662, 533, 661, 217, 685, 393, 246, 767, 661, 841, 870, 706, 93, 274, 572, 66, 279, 550, 514, 592, 845, 631, 109, 346, 825, 438, 337, 678, 656, 112, 463, 254, 34, 134, 206, 239, 568, 211, 43, 793, 310, 622, 346, 407, 81, 564, 470, 856, 322, 16, 460, 702, 549, 753, 346, 397, 208, 883, 501, 273, 218, 751, 0, 616, 573, 861, 766, 166, 680, 577, 857, 660, 480, 696, 863, 107, 726, 513, 770, 796, 556, 888, 104, 388, 402, 143, 810, 434, 862, 856, 738, 289, 785, 584, 891, 788, 544, 211, 483, 24, 346, 46, 450, 759, 454, 307, 234, 810, 647, 535, 274, 335, 451, 417, 741, 110, 175, 876, 352, 785, 102, 644, 165, 77, 800, 708, 572, 593, 862, 896, 690, 882, 708, 843, 256, 701, 364, 651, 387, 247, 589, 58, 112, 555, 127, 471, 577, 195, 647, 134, 35, 95, 197, 642, 644, 828, 853, 669, 370, 586, 347, 199, 421, 28, 501, 744, 884, 313, 475, 231, 315, 465, 413, 745, 823, 716, 750, 599, 753, 223, 677, 272, 786, 659, 824, 469, 671, 365, 480, 38, 14, 318, 410, 14, 35, 261, 213, 69, 342, 44, 815, 329, 672, 164, 695, 104, 587, 142, 21, 403, 643, 480, 249, 819, 133, 270, 77, 194, 591, 558, 557, 274, 60, 866, 505, 464, 671, 118, 674, 336, 99, 882, 340, 869, 579, 529, 12, 571, 226, 619, 578, 610, 405, 718, 681, 39, 559, 210, 298, 279, 279, 594, 506, 305, 664, 775, 310, 817, 273, 826, 134, 31, 500, 347, 24, 183, 829, 649, 335, 636, 647, 581, 559, 855, 82, 344, 149, 246, 324, 738, 255, 620, 335, 358, 292, 834, 363, 469, 706, 409, 84, 679, 346, 731, 248, 693, 860, 569, 462, 539, 7, 140, 433, 814, 542, 872, 838, 588, 384, 538, 835, 491, 47, 217, 358, 328, 0, 829, 19, 356, 337, 660, 855, 511, 444, 92, 429, 65, 835, 358, 856, 70, 9, 718, 641, 45, 306, 389, 178, 579, 346, 675, 383, 431, 38, 324, 478, 5, 335, 869, 715, 23, 260, 721, 598, 810, 460, 338, 758, 99, 785, 861, 381, 20, 333, 542, 74, 639, 773, 264, 434, 401, 719, 586, 451, 59, 277, 6, 493, 539, 439, 433, 785, 42, 79, 787, 553, 662, 8, 702, 283, 257, 767, 507, 489, 873, 51, 359, 562, 802, 653, 652, 644, 700, 838, 369, 63, 212, 569, 690, 299, 836, 459, 855, 252, 755, 717, 878, 396, 280, 183, 892, 257, 237, 642, 23, 615, 441, 894, 115, 320, 288, 804, 774, 90, 284, 449, 546, 262, 14, 483, 118, 605, 810, 356, 150, 246, 582, 228, 602, 821, 137, 719, 41, 877, 680, 88, 315, 269, 307, 874, 132, 13, 390, 353, 225, 439, 243, 264, 645, 84, 699, 381, 883, 566, 665, 463, 335, 145, 727, 606, 196, 461, 108, 266, 820, 239, 800, 181, 560, 389, 546, 523, 500, 84, 490, 272, 192, 121, 117, 635, 374, 139, 73, 123, 392, 649, 690, 887, 723, 139, 31, 675, 638, 160, 349, 870, 704, 856, 398, 874, 175, 563, 655, 563, 727, 657, 864, 453, 181, 224, 304, 289, 356, 774, 291, 884, 347, 725, 327, 344, 15, 234, 183, 450, 200, 773, 329, 279, 807, 770, 5, 159, 4, 397, 610, 446, 23, 157, 411, 23, 722, 60, 668, 893, 741, 484, 697, 139, 117, 722, 586, 711, 884, 577, 178, 244, 34, 875, 631, 865, 361, 629, 779, 100, 232, 285, 37, 212, 198, 783, 550, 43, 301, 185, 833, 484, 151, 433, 82, 757, 503, 412, 203, 872, 879, 141, 692, 98, 79, 532, 256, 630, 616, 565, 368, 314, 557, 508, 209, 270, 469, 332, 804, 891, 500, 390, 298, 521, 807, 844, 206, 396, 24, 196, 541, 195, 886, 652, 734, 395, 12, 727, 7, 503, 246, 435]\n",
      "Total rewards accumulated: 668\n",
      "Exploration Counts: 506\n",
      "Exploitation Counts: 494\n",
      "Estimated Rewards: 382.29530589202466\n"
     ]
    }
   ],
   "source": [
    "results = linear_greedy_bandit_epsilon(data, num_arms,epsilon, num_rounds)\n",
    "print(\"Chosen arms per round:\", results[0])\n",
    "print(\"Total rewards accumulated:\", results[1])\n",
    "print(\"Exploration Counts:\", results[2])\n",
    "print(\"Exploitation Counts:\", results[3])\n",
    "print(\"Estimated Rewards:\", results[4])"
   ]
  },
  {
   "cell_type": "markdown",
   "id": "edf4966b",
   "metadata": {
    "papermill": {
     "duration": 0.024785,
     "end_time": "2024-07-18T00:03:27.543205",
     "exception": false,
     "start_time": "2024-07-18T00:03:27.518420",
     "status": "completed"
    },
    "tags": []
   },
   "source": [
    "# Simulation"
   ]
  },
  {
   "cell_type": "markdown",
   "id": "4f4c8916",
   "metadata": {
    "papermill": {
     "duration": 0.02503,
     "end_time": "2024-07-18T00:03:27.593774",
     "exception": false,
     "start_time": "2024-07-18T00:03:27.568744",
     "status": "completed"
    },
    "tags": []
   },
   "source": [
    "## if all data included"
   ]
  },
  {
   "cell_type": "code",
   "execution_count": 27,
   "id": "f5dea22b",
   "metadata": {
    "execution": {
     "iopub.execute_input": "2024-07-18T00:03:27.646838Z",
     "iopub.status.busy": "2024-07-18T00:03:27.646454Z",
     "iopub.status.idle": "2024-07-18T00:03:27.659430Z",
     "shell.execute_reply": "2024-07-18T00:03:27.658242Z"
    },
    "papermill": {
     "duration": 0.042785,
     "end_time": "2024-07-18T00:03:27.662178",
     "exception": false,
     "start_time": "2024-07-18T00:03:27.619393",
     "status": "completed"
    },
    "tags": []
   },
   "outputs": [],
   "source": [
    "data = predf # dataframe\n",
    "num_arms = data['match_id'].nunique() # Number of matches\n",
    "epsilon = 0.5  # Exploration rate\n",
    "num_rounds = 10000  # Number of rounds to simulate\n",
    "num_experiments = 10  # Number of times to run the bandit experiment"
   ]
  },
  {
   "cell_type": "code",
   "execution_count": 28,
   "id": "64550c74",
   "metadata": {
    "execution": {
     "iopub.execute_input": "2024-07-18T00:03:27.714621Z",
     "iopub.status.busy": "2024-07-18T00:03:27.714120Z",
     "iopub.status.idle": "2024-07-18T00:05:57.259677Z",
     "shell.execute_reply": "2024-07-18T00:05:57.258225Z"
    },
    "papermill": {
     "duration": 149.600171,
     "end_time": "2024-07-18T00:05:57.287384",
     "exception": false,
     "start_time": "2024-07-18T00:03:27.687213",
     "status": "completed"
    },
    "tags": []
   },
   "outputs": [
    {
     "name": "stdout",
     "output_type": "stream",
     "text": [
      "Mean of total rewards over all experiments: 3576.5\n"
     ]
    }
   ],
   "source": [
    "mean_rewards_eg = run_multiple_experiments(data, num_arms, epsilon, num_rounds, num_experiments)\n",
    "print(\"Mean of total rewards over all experiments:\", mean_rewards_eg[0])"
   ]
  },
  {
   "cell_type": "code",
   "execution_count": 29,
   "id": "2b7c4e23",
   "metadata": {
    "execution": {
     "iopub.execute_input": "2024-07-18T00:05:57.339866Z",
     "iopub.status.busy": "2024-07-18T00:05:57.338775Z",
     "iopub.status.idle": "2024-07-18T00:13:23.848464Z",
     "shell.execute_reply": "2024-07-18T00:13:23.847201Z"
    },
    "papermill": {
     "duration": 446.564011,
     "end_time": "2024-07-18T00:13:23.876004",
     "exception": false,
     "start_time": "2024-07-18T00:05:57.311993",
     "status": "completed"
    },
    "tags": []
   },
   "outputs": [
    {
     "name": "stdout",
     "output_type": "stream",
     "text": [
      "Mean of total rewards over all experiments: 3546.9\n"
     ]
    }
   ],
   "source": [
    "mean_rewards_ts = run_thompson_sampling_experiments(data, num_arms, num_rounds, num_experiments)\n",
    "print(\"Mean of total rewards over all experiments:\", mean_rewards_ts[0])"
   ]
  },
  {
   "cell_type": "code",
   "execution_count": 30,
   "id": "750eb952",
   "metadata": {
    "execution": {
     "iopub.execute_input": "2024-07-18T00:13:23.928106Z",
     "iopub.status.busy": "2024-07-18T00:13:23.927677Z",
     "iopub.status.idle": "2024-07-18T01:05:11.592977Z",
     "shell.execute_reply": "2024-07-18T01:05:11.591687Z"
    },
    "papermill": {
     "duration": 3107.718654,
     "end_time": "2024-07-18T01:05:11.620029",
     "exception": false,
     "start_time": "2024-07-18T00:13:23.901375",
     "status": "completed"
    },
    "tags": []
   },
   "outputs": [
    {
     "name": "stdout",
     "output_type": "stream",
     "text": [
      "Mean of total rewards over all experiments: 6745.7\n"
     ]
    }
   ],
   "source": [
    "mean_rewards_lints = run_linear_greedy_experiments(data, num_arms, epsilon, num_rounds, num_experiments)\n",
    "print(\"Mean of total rewards over all experiments:\", mean_rewards_lints[0])"
   ]
  },
  {
   "cell_type": "code",
   "execution_count": 31,
   "id": "2b5ce5fd",
   "metadata": {
    "execution": {
     "iopub.execute_input": "2024-07-18T01:05:11.672432Z",
     "iopub.status.busy": "2024-07-18T01:05:11.671989Z",
     "iopub.status.idle": "2024-07-18T01:05:11.958554Z",
     "shell.execute_reply": "2024-07-18T01:05:11.957345Z"
    },
    "papermill": {
     "duration": 0.315922,
     "end_time": "2024-07-18T01:05:11.961126",
     "exception": false,
     "start_time": "2024-07-18T01:05:11.645204",
     "status": "completed"
    },
    "tags": []
   },
   "outputs": [
    {
     "data": {
      "image/png": "[encoded data removed]",
      "text/plain": [
       "<Figure size 1000x600 with 1 Axes>"
      ]
     },
     "metadata": {},
     "output_type": "display_data"
    }
   ],
   "source": [
    "mean_rewards = [mean_rewards_eg[0], mean_rewards_ts[0], mean_rewards_lints[0]]\n",
    "labels = ['Epsilon-Greedy', 'Thompson Sampling', 'Linear Greedy']\n",
    "\n",
    "# Plotting the histogram\n",
    "plt.figure(figsize=(10, 6))\n",
    "plt.bar(labels, mean_rewards, color=['blue', 'green', 'red'])\n",
    "plt.xlabel('Bandit Algorithm')\n",
    "plt.ylabel('Mean Total Rewards')\n",
    "plt.title('Comparison of Mean Total Rewards for Different Bandit Algorithms')\n",
    "plt.ylim(0, max(mean_rewards) + 20)  # Adjust y-axis limit for better visualization\n",
    "\n",
    "# Adding value labels on top of the bars\n",
    "for i in range(len(mean_rewards)):\n",
    "    plt.text(i, mean_rewards[i] + 1, str(mean_rewards[i]), ha='center', va='bottom')\n",
    "\n",
    "plt.show()"
   ]
  },
  {
   "cell_type": "markdown",
   "id": "2419e565",
   "metadata": {
    "papermill": {
     "duration": 0.025719,
     "end_time": "2024-07-18T01:05:12.012769",
     "exception": false,
     "start_time": "2024-07-18T01:05:11.987050",
     "status": "completed"
    },
    "tags": []
   },
   "source": [
    "# if the all the data included but it's randomized"
   ]
  },
  {
   "cell_type": "code",
   "execution_count": 32,
   "id": "69de3eb3",
   "metadata": {
    "execution": {
     "iopub.execute_input": "2024-07-18T01:05:12.065856Z",
     "iopub.status.busy": "2024-07-18T01:05:12.065481Z",
     "iopub.status.idle": "2024-07-18T01:05:12.077060Z",
     "shell.execute_reply": "2024-07-18T01:05:12.076084Z"
    },
    "papermill": {
     "duration": 0.041296,
     "end_time": "2024-07-18T01:05:12.079718",
     "exception": false,
     "start_time": "2024-07-18T01:05:12.038422",
     "status": "completed"
    },
    "tags": []
   },
   "outputs": [],
   "source": [
    "np.random.seed(42)\n",
    "predf['response'] = np.random.choice([0, 1], size=len(predf))"
   ]
  },
  {
   "cell_type": "code",
   "execution_count": 33,
   "id": "3bb59ff1",
   "metadata": {
    "execution": {
     "iopub.execute_input": "2024-07-18T01:05:12.133711Z",
     "iopub.status.busy": "2024-07-18T01:05:12.132873Z",
     "iopub.status.idle": "2024-07-18T01:07:51.615244Z",
     "shell.execute_reply": "2024-07-18T01:07:51.614062Z"
    },
    "papermill": {
     "duration": 159.53681,
     "end_time": "2024-07-18T01:07:51.642419",
     "exception": false,
     "start_time": "2024-07-18T01:05:12.105609",
     "status": "completed"
    },
    "tags": []
   },
   "outputs": [
    {
     "name": "stdout",
     "output_type": "stream",
     "text": [
      "Mean of total rewards over all experiments: 5037.9\n"
     ]
    }
   ],
   "source": [
    "mean_rewards_eg1 = run_multiple_experiments(data, num_arms, epsilon, num_rounds, num_experiments)\n",
    "print(\"Mean of total rewards over all experiments:\", mean_rewards_eg1[0])"
   ]
  },
  {
   "cell_type": "code",
   "execution_count": 34,
   "id": "6d6e61e5",
   "metadata": {
    "execution": {
     "iopub.execute_input": "2024-07-18T01:07:51.696852Z",
     "iopub.status.busy": "2024-07-18T01:07:51.695730Z",
     "iopub.status.idle": "2024-07-18T01:15:29.895005Z",
     "shell.execute_reply": "2024-07-18T01:15:29.893739Z"
    },
    "papermill": {
     "duration": 458.255132,
     "end_time": "2024-07-18T01:15:29.923375",
     "exception": false,
     "start_time": "2024-07-18T01:07:51.668243",
     "status": "completed"
    },
    "tags": []
   },
   "outputs": [
    {
     "name": "stdout",
     "output_type": "stream",
     "text": [
      "Mean of total rewards over all experiments: 4991.1\n"
     ]
    }
   ],
   "source": [
    "mean_rewards_ts1 = run_thompson_sampling_experiments(data, num_arms, num_rounds, num_experiments)\n",
    "print(\"Mean of total rewards over all experiments:\", mean_rewards_ts1[0])"
   ]
  },
  {
   "cell_type": "code",
   "execution_count": 35,
   "id": "50d9aead",
   "metadata": {
    "execution": {
     "iopub.execute_input": "2024-07-18T01:15:29.978309Z",
     "iopub.status.busy": "2024-07-18T01:15:29.977864Z",
     "iopub.status.idle": "2024-07-18T02:06:21.382819Z",
     "shell.execute_reply": "2024-07-18T02:06:21.381354Z"
    },
    "papermill": {
     "duration": 3051.462445,
     "end_time": "2024-07-18T02:06:21.412864",
     "exception": false,
     "start_time": "2024-07-18T01:15:29.950419",
     "status": "completed"
    },
    "tags": []
   },
   "outputs": [
    {
     "name": "stdout",
     "output_type": "stream",
     "text": [
      "Mean of total rewards over all experiments: 4903.6\n"
     ]
    }
   ],
   "source": [
    "mean_rewards_lints1 = run_linear_greedy_experiments(data, num_arms, epsilon, num_rounds, num_experiments)\n",
    "print(\"Mean of total rewards over all experiments:\", mean_rewards_lints1[0])"
   ]
  },
  {
   "cell_type": "code",
   "execution_count": 36,
   "id": "0f208138",
   "metadata": {
    "execution": {
     "iopub.execute_input": "2024-07-18T02:06:21.468757Z",
     "iopub.status.busy": "2024-07-18T02:06:21.468333Z",
     "iopub.status.idle": "2024-07-18T02:06:21.762847Z",
     "shell.execute_reply": "2024-07-18T02:06:21.761502Z"
    },
    "papermill": {
     "duration": 0.325988,
     "end_time": "2024-07-18T02:06:21.765711",
     "exception": false,
     "start_time": "2024-07-18T02:06:21.439723",
     "status": "completed"
    },
    "tags": []
   },
   "outputs": [
    {
     "data": {
      "image/png": "[encoded data removed]",
      "text/plain": [
       "<Figure size 1000x600 with 1 Axes>"
      ]
     },
     "metadata": {},
     "output_type": "display_data"
    }
   ],
   "source": [
    "mean_rewards = [mean_rewards_eg1[0], mean_rewards_ts1[0], mean_rewards_lints1[0]]\n",
    "labels = ['Epsilon-Greedy', 'Thompson Sampling', 'Linear Greedy']\n",
    "\n",
    "# Plotting the histogram\n",
    "plt.figure(figsize=(10, 6))\n",
    "plt.bar(labels, mean_rewards, color=['blue', 'green', 'red'])\n",
    "plt.xlabel('Bandit Algorithm')\n",
    "plt.ylabel('Mean Total Rewards')\n",
    "plt.title('Comparison of Mean Total Rewards for Different Bandit Algorithms')\n",
    "plt.ylim(0, max(mean_rewards) + 20)  # Adjust y-axis limit for better visualization\n",
    "\n",
    "# Adding value labels on top of the bars\n",
    "for i in range(len(mean_rewards)):\n",
    "    plt.text(i, mean_rewards[i] + 1, str(mean_rewards[i]), ha='center', va='bottom')\n",
    "\n",
    "plt.show()"
   ]
  },
  {
   "cell_type": "markdown",
   "id": "4f1db90b",
   "metadata": {
    "papermill": {
     "duration": 0.026942,
     "end_time": "2024-07-18T02:06:21.821812",
     "exception": false,
     "start_time": "2024-07-18T02:06:21.794870",
     "status": "completed"
    },
    "tags": []
   },
   "source": [
    "# If Data is small (10% only)"
   ]
  },
  {
   "cell_type": "code",
   "execution_count": 37,
   "id": "1a9e616f",
   "metadata": {
    "execution": {
     "iopub.execute_input": "2024-07-18T02:06:21.878663Z",
     "iopub.status.busy": "2024-07-18T02:06:21.878230Z",
     "iopub.status.idle": "2024-07-18T02:06:21.885182Z",
     "shell.execute_reply": "2024-07-18T02:06:21.883969Z"
    },
    "papermill": {
     "duration": 0.038343,
     "end_time": "2024-07-18T02:06:21.887698",
     "exception": false,
     "start_time": "2024-07-18T02:06:21.849355",
     "status": "completed"
    },
    "tags": []
   },
   "outputs": [],
   "source": [
    "data = predf2 # dataframe\n",
    "num_arms = data['match_id'].nunique() # Number of matches\n",
    "epsilon = 0.5  # Exploration rate\n",
    "num_rounds = 10000  # Number of rounds to simulate"
   ]
  },
  {
   "cell_type": "code",
   "execution_count": 38,
   "id": "0a833929",
   "metadata": {
    "execution": {
     "iopub.execute_input": "2024-07-18T02:06:21.945091Z",
     "iopub.status.busy": "2024-07-18T02:06:21.943741Z",
     "iopub.status.idle": "2024-07-18T02:07:21.536532Z",
     "shell.execute_reply": "2024-07-18T02:07:21.535206Z"
    },
    "papermill": {
     "duration": 59.651006,
     "end_time": "2024-07-18T02:07:21.565990",
     "exception": false,
     "start_time": "2024-07-18T02:06:21.914984",
     "status": "completed"
    },
    "tags": []
   },
   "outputs": [
    {
     "name": "stdout",
     "output_type": "stream",
     "text": [
      "Mean of total rewards over all experiments: 3800.0\n"
     ]
    }
   ],
   "source": [
    "mean_rewards_eg2 = run_multiple_experiments(data, num_arms, epsilon, num_rounds, num_experiments)\n",
    "print(\"Mean of total rewards over all experiments:\", mean_rewards_eg2[0])"
   ]
  },
  {
   "cell_type": "code",
   "execution_count": 39,
   "id": "d7b2ffbd",
   "metadata": {
    "execution": {
     "iopub.execute_input": "2024-07-18T02:07:21.622857Z",
     "iopub.status.busy": "2024-07-18T02:07:21.622422Z",
     "iopub.status.idle": "2024-07-18T02:08:50.756225Z",
     "shell.execute_reply": "2024-07-18T02:08:50.754972Z"
    },
    "papermill": {
     "duration": 89.19424,
     "end_time": "2024-07-18T02:08:50.787535",
     "exception": false,
     "start_time": "2024-07-18T02:07:21.593295",
     "status": "completed"
    },
    "tags": []
   },
   "outputs": [
    {
     "name": "stdout",
     "output_type": "stream",
     "text": [
      "Mean of total rewards over all experiments: 3748.1\n"
     ]
    }
   ],
   "source": [
    "mean_rewards_ts2 = run_thompson_sampling_experiments(data, num_arms, num_rounds, num_experiments)\n",
    "print(\"Mean of total rewards over all experiments:\", mean_rewards_ts2[0])"
   ]
  },
  {
   "cell_type": "code",
   "execution_count": 40,
   "id": "5392b9ee",
   "metadata": {
    "execution": {
     "iopub.execute_input": "2024-07-18T02:08:50.844915Z",
     "iopub.status.busy": "2024-07-18T02:08:50.844514Z",
     "iopub.status.idle": "2024-07-18T02:17:56.553435Z",
     "shell.execute_reply": "2024-07-18T02:17:56.552303Z"
    },
    "papermill": {
     "duration": 545.768327,
     "end_time": "2024-07-18T02:17:56.583623",
     "exception": false,
     "start_time": "2024-07-18T02:08:50.815296",
     "status": "completed"
    },
    "tags": []
   },
   "outputs": [
    {
     "name": "stdout",
     "output_type": "stream",
     "text": [
      "Mean of total rewards over all experiments: 6737.4\n"
     ]
    }
   ],
   "source": [
    "mean_rewards_lints2 = run_linear_greedy_experiments(data, num_arms, epsilon, num_rounds, num_experiments)\n",
    "print(\"Mean of total rewards over all experiments:\", mean_rewards_lints2[0])"
   ]
  },
  {
   "cell_type": "code",
   "execution_count": 41,
   "id": "0d97c4a1",
   "metadata": {
    "execution": {
     "iopub.execute_input": "2024-07-18T02:17:56.640908Z",
     "iopub.status.busy": "2024-07-18T02:17:56.640503Z",
     "iopub.status.idle": "2024-07-18T02:17:56.901436Z",
     "shell.execute_reply": "2024-07-18T02:17:56.900183Z"
    },
    "papermill": {
     "duration": 0.293249,
     "end_time": "2024-07-18T02:17:56.904235",
     "exception": false,
     "start_time": "2024-07-18T02:17:56.610986",
     "status": "completed"
    },
    "tags": []
   },
   "outputs": [
    {
     "data": {
      "image/png": "[encoded data removed]",
      "text/plain": [
       "<Figure size 1000x600 with 1 Axes>"
      ]
     },
     "metadata": {},
     "output_type": "display_data"
    }
   ],
   "source": [
    "mean_rewards = [mean_rewards_eg2[0], mean_rewards_ts2[0], mean_rewards_lints2[0]]\n",
    "labels = ['Epsilon-Greedy', 'Thompson Sampling', 'Linear Greedy']\n",
    "\n",
    "# Plotting the histogram\n",
    "plt.figure(figsize=(10, 6))\n",
    "plt.bar(labels, mean_rewards, color=['blue', 'green', 'red'])\n",
    "plt.xlabel('Bandit Algorithm')\n",
    "plt.ylabel('Mean Total Rewards')\n",
    "plt.title('Comparison of Mean Total Rewards for Different Bandit Algorithms')\n",
    "plt.ylim(0, max(mean_rewards) + 20)  # Adjust y-axis limit for better visualization\n",
    "\n",
    "# Adding value labels on top of the bars\n",
    "for i in range(len(mean_rewards)):\n",
    "    plt.text(i, mean_rewards[i] + 1, str(mean_rewards[i]), ha='center', va='bottom')\n",
    "\n",
    "plt.show()"
   ]
  },
  {
   "cell_type": "markdown",
   "id": "db79468f",
   "metadata": {
    "papermill": {
     "duration": 0.027991,
     "end_time": "2024-07-18T02:17:56.960620",
     "exception": false,
     "start_time": "2024-07-18T02:17:56.932629",
     "status": "completed"
    },
    "tags": []
   },
   "source": [
    "# if the all the data small but it's randomized"
   ]
  },
  {
   "cell_type": "code",
   "execution_count": 42,
   "id": "611db83c",
   "metadata": {
    "execution": {
     "iopub.execute_input": "2024-07-18T02:17:57.018728Z",
     "iopub.status.busy": "2024-07-18T02:17:57.018292Z",
     "iopub.status.idle": "2024-07-18T02:17:57.025482Z",
     "shell.execute_reply": "2024-07-18T02:17:57.024246Z"
    },
    "papermill": {
     "duration": 0.039616,
     "end_time": "2024-07-18T02:17:57.028261",
     "exception": false,
     "start_time": "2024-07-18T02:17:56.988645",
     "status": "completed"
    },
    "tags": []
   },
   "outputs": [],
   "source": [
    "np.random.seed(42)\n",
    "predf2['response'] = np.random.choice([0, 1], size=len(predf2))"
   ]
  },
  {
   "cell_type": "code",
   "execution_count": 43,
   "id": "8b6810c1",
   "metadata": {
    "execution": {
     "iopub.execute_input": "2024-07-18T02:17:57.087364Z",
     "iopub.status.busy": "2024-07-18T02:17:57.086930Z",
     "iopub.status.idle": "2024-07-18T02:19:07.381338Z",
     "shell.execute_reply": "2024-07-18T02:19:07.380051Z"
    },
    "papermill": {
     "duration": 70.357355,
     "end_time": "2024-07-18T02:19:07.414545",
     "exception": false,
     "start_time": "2024-07-18T02:17:57.057190",
     "status": "completed"
    },
    "tags": []
   },
   "outputs": [
    {
     "name": "stdout",
     "output_type": "stream",
     "text": [
      "Mean of total rewards over all experiments: 5559.6\n"
     ]
    }
   ],
   "source": [
    "mean_rewards_eg3 = run_multiple_experiments(data, num_arms, epsilon, num_rounds, num_experiments)\n",
    "print(\"Mean of total rewards over all experiments:\", mean_rewards_eg3[0])"
   ]
  },
  {
   "cell_type": "code",
   "execution_count": 44,
   "id": "e1e99f90",
   "metadata": {
    "execution": {
     "iopub.execute_input": "2024-07-18T02:19:07.476978Z",
     "iopub.status.busy": "2024-07-18T02:19:07.476543Z",
     "iopub.status.idle": "2024-07-18T02:20:47.452364Z",
     "shell.execute_reply": "2024-07-18T02:20:47.451076Z"
    },
    "papermill": {
     "duration": 100.039024,
     "end_time": "2024-07-18T02:20:47.482943",
     "exception": false,
     "start_time": "2024-07-18T02:19:07.443919",
     "status": "completed"
    },
    "tags": []
   },
   "outputs": [
    {
     "name": "stdout",
     "output_type": "stream",
     "text": [
      "Mean of total rewards over all experiments: 5572.0\n"
     ]
    }
   ],
   "source": [
    "mean_rewards_ts3 = run_thompson_sampling_experiments(data, num_arms, num_rounds, num_experiments)\n",
    "print(\"Mean of total rewards over all experiments:\", mean_rewards_ts3[0])"
   ]
  },
  {
   "cell_type": "code",
   "execution_count": 45,
   "id": "802e9a29",
   "metadata": {
    "execution": {
     "iopub.execute_input": "2024-07-18T02:20:47.542588Z",
     "iopub.status.busy": "2024-07-18T02:20:47.542150Z",
     "iopub.status.idle": "2024-07-18T02:29:47.275688Z",
     "shell.execute_reply": "2024-07-18T02:29:47.274585Z"
    },
    "papermill": {
     "duration": 539.796447,
     "end_time": "2024-07-18T02:29:47.308339",
     "exception": false,
     "start_time": "2024-07-18T02:20:47.511892",
     "status": "completed"
    },
    "tags": []
   },
   "outputs": [
    {
     "name": "stdout",
     "output_type": "stream",
     "text": [
      "Mean of total rewards over all experiments: 5081.8\n"
     ]
    }
   ],
   "source": [
    "mean_rewards_lints3 = run_linear_greedy_experiments(data, num_arms, epsilon, num_rounds, num_experiments)\n",
    "print(\"Mean of total rewards over all experiments:\", mean_rewards_lints3[0])"
   ]
  },
  {
   "cell_type": "code",
   "execution_count": 46,
   "id": "4c030a07",
   "metadata": {
    "execution": {
     "iopub.execute_input": "2024-07-18T02:29:47.372776Z",
     "iopub.status.busy": "2024-07-18T02:29:47.372337Z",
     "iopub.status.idle": "2024-07-18T02:29:47.597391Z",
     "shell.execute_reply": "2024-07-18T02:29:47.596285Z"
    },
    "papermill": {
     "duration": 0.25945,
     "end_time": "2024-07-18T02:29:47.599809",
     "exception": false,
     "start_time": "2024-07-18T02:29:47.340359",
     "status": "completed"
    },
    "tags": []
   },
   "outputs": [
    {
     "data": {
      "image/png": "[encoded data removed]",
      "text/plain": [
       "<Figure size 1000x600 with 1 Axes>"
      ]
     },
     "metadata": {},
     "output_type": "display_data"
    }
   ],
   "source": [
    "mean_rewards = [mean_rewards_eg3[0], mean_rewards_ts3[0], mean_rewards_lints3[0]]\n",
    "labels = ['Epsilon-Greedy', 'Thompson Sampling', 'Linear Greedy']\n",
    "\n",
    "# Plotting the histogram\n",
    "plt.figure(figsize=(10, 6))\n",
    "plt.bar(labels, mean_rewards, color=['blue', 'green', 'red'])\n",
    "plt.xlabel('Bandit Algorithm')\n",
    "plt.ylabel('Mean Total Rewards')\n",
    "plt.title('Comparison of Mean Total Rewards for Different Bandit Algorithms')\n",
    "plt.ylim(0, max(mean_rewards) + 20)  # Adjust y-axis limit for better visualization\n",
    "\n",
    "# Adding value labels on top of the bars\n",
    "for i in range(len(mean_rewards)):\n",
    "    plt.text(i, mean_rewards[i] + 1, str(mean_rewards[i]), ha='center', va='bottom')\n",
    "\n",
    "plt.show()"
   ]
  },
  {
   "cell_type": "markdown",
   "id": "aadd3471",
   "metadata": {
    "papermill": {
     "duration": 0.03026,
     "end_time": "2024-07-18T02:29:47.659636",
     "exception": false,
     "start_time": "2024-07-18T02:29:47.629376",
     "status": "completed"
    },
    "tags": []
   },
   "source": [
    "# Mean Table + Conclusion"
   ]
  },
  {
   "cell_type": "code",
   "execution_count": 47,
   "id": "0c14dbf2",
   "metadata": {
    "execution": {
     "iopub.execute_input": "2024-07-18T02:29:47.721156Z",
     "iopub.status.busy": "2024-07-18T02:29:47.720593Z",
     "iopub.status.idle": "2024-07-18T02:29:47.736598Z",
     "shell.execute_reply": "2024-07-18T02:29:47.735403Z"
    },
    "papermill": {
     "duration": 0.049653,
     "end_time": "2024-07-18T02:29:47.738954",
     "exception": false,
     "start_time": "2024-07-18T02:29:47.689301",
     "status": "completed"
    },
    "tags": []
   },
   "outputs": [
    {
     "data": {
      "text/html": [
       "<div>\n",
       "<style scoped>\n",
       "    .dataframe tbody tr th:only-of-type {\n",
       "        vertical-align: middle;\n",
       "    }\n",
       "\n",
       "    .dataframe tbody tr th {\n",
       "        vertical-align: top;\n",
       "    }\n",
       "\n",
       "    .dataframe thead th {\n",
       "        text-align: right;\n",
       "    }\n",
       "</style>\n",
       "<table border=\"1\" class=\"dataframe\">\n",
       "  <thead>\n",
       "    <tr style=\"text-align: right;\">\n",
       "      <th></th>\n",
       "      <th>Bandit Algorithm</th>\n",
       "      <th>Mean Total Rewards</th>\n",
       "    </tr>\n",
       "  </thead>\n",
       "  <tbody>\n",
       "    <tr>\n",
       "      <th>0</th>\n",
       "      <td>Epsilon-Greedy</td>\n",
       "      <td>[3558, 3585, 3466, 3602, 3626, 3601, 3547, 354...</td>\n",
       "    </tr>\n",
       "    <tr>\n",
       "      <th>1</th>\n",
       "      <td>Thompson Sampling</td>\n",
       "      <td>[3530, 3470, 3510, 3642, 3547, 3525, 3565, 357...</td>\n",
       "    </tr>\n",
       "    <tr>\n",
       "      <th>2</th>\n",
       "      <td>Linear Greedy</td>\n",
       "      <td>[6712, 6759, 6710, 6744, 6774, 6710, 6774, 675...</td>\n",
       "    </tr>\n",
       "  </tbody>\n",
       "</table>\n",
       "</div>"
      ],
      "text/plain": [
       "    Bandit Algorithm                                 Mean Total Rewards\n",
       "0     Epsilon-Greedy  [3558, 3585, 3466, 3602, 3626, 3601, 3547, 354...\n",
       "1  Thompson Sampling  [3530, 3470, 3510, 3642, 3547, 3525, 3565, 357...\n",
       "2      Linear Greedy  [6712, 6759, 6710, 6744, 6774, 6710, 6774, 675..."
      ]
     },
     "execution_count": 47,
     "metadata": {},
     "output_type": "execute_result"
    }
   ],
   "source": [
    "data = {\n",
    "    'Bandit Algorithm': ['Epsilon-Greedy', 'Thompson Sampling', 'Linear Greedy'],\n",
    "    'Mean Total Rewards': [mean_rewards_eg[1], mean_rewards_ts[1], mean_rewards_lints[1]]\n",
    "}\n",
    "df1 = pd.DataFrame(data)\n",
    "df1"
   ]
  },
  {
   "cell_type": "code",
   "execution_count": 48,
   "id": "00873fa2",
   "metadata": {
    "execution": {
     "iopub.execute_input": "2024-07-18T02:29:47.801524Z",
     "iopub.status.busy": "2024-07-18T02:29:47.801061Z",
     "iopub.status.idle": "2024-07-18T02:29:47.814586Z",
     "shell.execute_reply": "2024-07-18T02:29:47.813426Z"
    },
    "papermill": {
     "duration": 0.047898,
     "end_time": "2024-07-18T02:29:47.817161",
     "exception": false,
     "start_time": "2024-07-18T02:29:47.769263",
     "status": "completed"
    },
    "tags": []
   },
   "outputs": [
    {
     "data": {
      "text/html": [
       "<div>\n",
       "<style scoped>\n",
       "    .dataframe tbody tr th:only-of-type {\n",
       "        vertical-align: middle;\n",
       "    }\n",
       "\n",
       "    .dataframe tbody tr th {\n",
       "        vertical-align: top;\n",
       "    }\n",
       "\n",
       "    .dataframe thead th {\n",
       "        text-align: right;\n",
       "    }\n",
       "</style>\n",
       "<table border=\"1\" class=\"dataframe\">\n",
       "  <thead>\n",
       "    <tr style=\"text-align: right;\">\n",
       "      <th></th>\n",
       "      <th>Bandit Algorithm</th>\n",
       "      <th>Mean Total Rewards</th>\n",
       "    </tr>\n",
       "  </thead>\n",
       "  <tbody>\n",
       "    <tr>\n",
       "      <th>0</th>\n",
       "      <td>Epsilon-Greedy</td>\n",
       "      <td>3576.5</td>\n",
       "    </tr>\n",
       "    <tr>\n",
       "      <th>1</th>\n",
       "      <td>Thompson Sampling</td>\n",
       "      <td>3546.9</td>\n",
       "    </tr>\n",
       "    <tr>\n",
       "      <th>2</th>\n",
       "      <td>Linear Greedy</td>\n",
       "      <td>6745.7</td>\n",
       "    </tr>\n",
       "  </tbody>\n",
       "</table>\n",
       "</div>"
      ],
      "text/plain": [
       "    Bandit Algorithm  Mean Total Rewards\n",
       "0     Epsilon-Greedy              3576.5\n",
       "1  Thompson Sampling              3546.9\n",
       "2      Linear Greedy              6745.7"
      ]
     },
     "execution_count": 48,
     "metadata": {},
     "output_type": "execute_result"
    }
   ],
   "source": [
    "data = {\n",
    "    'Bandit Algorithm': ['Epsilon-Greedy', 'Thompson Sampling', 'Linear Greedy'],\n",
    "    'Mean Total Rewards': [mean_rewards_eg[0], mean_rewards_ts[0], mean_rewards_lints[0]]\n",
    "}\n",
    "df11 = pd.DataFrame(data)\n",
    "df11"
   ]
  },
  {
   "cell_type": "code",
   "execution_count": 49,
   "id": "5a573ed4",
   "metadata": {
    "execution": {
     "iopub.execute_input": "2024-07-18T02:29:47.882776Z",
     "iopub.status.busy": "2024-07-18T02:29:47.882327Z",
     "iopub.status.idle": "2024-07-18T02:29:47.896887Z",
     "shell.execute_reply": "2024-07-18T02:29:47.895688Z"
    },
    "papermill": {
     "duration": 0.050028,
     "end_time": "2024-07-18T02:29:47.899362",
     "exception": false,
     "start_time": "2024-07-18T02:29:47.849334",
     "status": "completed"
    },
    "tags": []
   },
   "outputs": [
    {
     "data": {
      "text/html": [
       "<div>\n",
       "<style scoped>\n",
       "    .dataframe tbody tr th:only-of-type {\n",
       "        vertical-align: middle;\n",
       "    }\n",
       "\n",
       "    .dataframe tbody tr th {\n",
       "        vertical-align: top;\n",
       "    }\n",
       "\n",
       "    .dataframe thead th {\n",
       "        text-align: right;\n",
       "    }\n",
       "</style>\n",
       "<table border=\"1\" class=\"dataframe\">\n",
       "  <thead>\n",
       "    <tr style=\"text-align: right;\">\n",
       "      <th></th>\n",
       "      <th>Bandit Algorithm</th>\n",
       "      <th>Mean Total Rewards</th>\n",
       "    </tr>\n",
       "  </thead>\n",
       "  <tbody>\n",
       "    <tr>\n",
       "      <th>0</th>\n",
       "      <td>Epsilon-Greedy</td>\n",
       "      <td>[5036, 5059, 5085, 5036, 5055, 5080, 5012, 499...</td>\n",
       "    </tr>\n",
       "    <tr>\n",
       "      <th>1</th>\n",
       "      <td>Thompson Sampling</td>\n",
       "      <td>[5074, 5025, 4944, 4963, 5003, 5066, 5009, 495...</td>\n",
       "    </tr>\n",
       "    <tr>\n",
       "      <th>2</th>\n",
       "      <td>Linear Greedy</td>\n",
       "      <td>[4906, 4975, 4887, 4917, 4850, 4857, 4945, 490...</td>\n",
       "    </tr>\n",
       "  </tbody>\n",
       "</table>\n",
       "</div>"
      ],
      "text/plain": [
       "    Bandit Algorithm                                 Mean Total Rewards\n",
       "0     Epsilon-Greedy  [5036, 5059, 5085, 5036, 5055, 5080, 5012, 499...\n",
       "1  Thompson Sampling  [5074, 5025, 4944, 4963, 5003, 5066, 5009, 495...\n",
       "2      Linear Greedy  [4906, 4975, 4887, 4917, 4850, 4857, 4945, 490..."
      ]
     },
     "execution_count": 49,
     "metadata": {},
     "output_type": "execute_result"
    }
   ],
   "source": [
    "data = {\n",
    "    'Bandit Algorithm': ['Epsilon-Greedy', 'Thompson Sampling', 'Linear Greedy'],\n",
    "    'Mean Total Rewards': [mean_rewards_eg1[1], mean_rewards_ts1[1], mean_rewards_lints1[1]]\n",
    "}\n",
    "df2 = pd.DataFrame(data)\n",
    "df2"
   ]
  },
  {
   "cell_type": "code",
   "execution_count": 50,
   "id": "8ef20443",
   "metadata": {
    "execution": {
     "iopub.execute_input": "2024-07-18T02:29:47.963607Z",
     "iopub.status.busy": "2024-07-18T02:29:47.962619Z",
     "iopub.status.idle": "2024-07-18T02:29:47.975128Z",
     "shell.execute_reply": "2024-07-18T02:29:47.973933Z"
    },
    "papermill": {
     "duration": 0.046819,
     "end_time": "2024-07-18T02:29:47.977390",
     "exception": false,
     "start_time": "2024-07-18T02:29:47.930571",
     "status": "completed"
    },
    "tags": []
   },
   "outputs": [
    {
     "data": {
      "text/html": [
       "<div>\n",
       "<style scoped>\n",
       "    .dataframe tbody tr th:only-of-type {\n",
       "        vertical-align: middle;\n",
       "    }\n",
       "\n",
       "    .dataframe tbody tr th {\n",
       "        vertical-align: top;\n",
       "    }\n",
       "\n",
       "    .dataframe thead th {\n",
       "        text-align: right;\n",
       "    }\n",
       "</style>\n",
       "<table border=\"1\" class=\"dataframe\">\n",
       "  <thead>\n",
       "    <tr style=\"text-align: right;\">\n",
       "      <th></th>\n",
       "      <th>Bandit Algorithm</th>\n",
       "      <th>Mean Total Rewards</th>\n",
       "    </tr>\n",
       "  </thead>\n",
       "  <tbody>\n",
       "    <tr>\n",
       "      <th>0</th>\n",
       "      <td>Epsilon-Greedy</td>\n",
       "      <td>5037.9</td>\n",
       "    </tr>\n",
       "    <tr>\n",
       "      <th>1</th>\n",
       "      <td>Thompson Sampling</td>\n",
       "      <td>4991.1</td>\n",
       "    </tr>\n",
       "    <tr>\n",
       "      <th>2</th>\n",
       "      <td>Linear Greedy</td>\n",
       "      <td>4903.6</td>\n",
       "    </tr>\n",
       "  </tbody>\n",
       "</table>\n",
       "</div>"
      ],
      "text/plain": [
       "    Bandit Algorithm  Mean Total Rewards\n",
       "0     Epsilon-Greedy              5037.9\n",
       "1  Thompson Sampling              4991.1\n",
       "2      Linear Greedy              4903.6"
      ]
     },
     "execution_count": 50,
     "metadata": {},
     "output_type": "execute_result"
    }
   ],
   "source": [
    "data = {\n",
    "    'Bandit Algorithm': ['Epsilon-Greedy', 'Thompson Sampling', 'Linear Greedy'],\n",
    "    'Mean Total Rewards': [mean_rewards_eg1[0], mean_rewards_ts1[0], mean_rewards_lints1[0]]\n",
    "}\n",
    "df22 = pd.DataFrame(data)\n",
    "df22"
   ]
  },
  {
   "cell_type": "code",
   "execution_count": 51,
   "id": "17502115",
   "metadata": {
    "execution": {
     "iopub.execute_input": "2024-07-18T02:29:48.042148Z",
     "iopub.status.busy": "2024-07-18T02:29:48.041683Z",
     "iopub.status.idle": "2024-07-18T02:29:48.055436Z",
     "shell.execute_reply": "2024-07-18T02:29:48.054343Z"
    },
    "papermill": {
     "duration": 0.04847,
     "end_time": "2024-07-18T02:29:48.057718",
     "exception": false,
     "start_time": "2024-07-18T02:29:48.009248",
     "status": "completed"
    },
    "tags": []
   },
   "outputs": [
    {
     "data": {
      "text/html": [
       "<div>\n",
       "<style scoped>\n",
       "    .dataframe tbody tr th:only-of-type {\n",
       "        vertical-align: middle;\n",
       "    }\n",
       "\n",
       "    .dataframe tbody tr th {\n",
       "        vertical-align: top;\n",
       "    }\n",
       "\n",
       "    .dataframe thead th {\n",
       "        text-align: right;\n",
       "    }\n",
       "</style>\n",
       "<table border=\"1\" class=\"dataframe\">\n",
       "  <thead>\n",
       "    <tr style=\"text-align: right;\">\n",
       "      <th></th>\n",
       "      <th>Bandit Algorithm</th>\n",
       "      <th>Mean Total Rewards</th>\n",
       "    </tr>\n",
       "  </thead>\n",
       "  <tbody>\n",
       "    <tr>\n",
       "      <th>0</th>\n",
       "      <td>Epsilon-Greedy</td>\n",
       "      <td>[3787, 3846, 3740, 3787, 3954, 3863, 3730, 377...</td>\n",
       "    </tr>\n",
       "    <tr>\n",
       "      <th>1</th>\n",
       "      <td>Thompson Sampling</td>\n",
       "      <td>[3759, 3703, 3726, 3772, 3750, 3672, 3788, 377...</td>\n",
       "    </tr>\n",
       "    <tr>\n",
       "      <th>2</th>\n",
       "      <td>Linear Greedy</td>\n",
       "      <td>[6735, 6818, 6753, 6603, 6690, 6774, 6683, 686...</td>\n",
       "    </tr>\n",
       "  </tbody>\n",
       "</table>\n",
       "</div>"
      ],
      "text/plain": [
       "    Bandit Algorithm                                 Mean Total Rewards\n",
       "0     Epsilon-Greedy  [3787, 3846, 3740, 3787, 3954, 3863, 3730, 377...\n",
       "1  Thompson Sampling  [3759, 3703, 3726, 3772, 3750, 3672, 3788, 377...\n",
       "2      Linear Greedy  [6735, 6818, 6753, 6603, 6690, 6774, 6683, 686..."
      ]
     },
     "execution_count": 51,
     "metadata": {},
     "output_type": "execute_result"
    }
   ],
   "source": [
    "data = {\n",
    "    'Bandit Algorithm': ['Epsilon-Greedy', 'Thompson Sampling', 'Linear Greedy'],\n",
    "    'Mean Total Rewards': [mean_rewards_eg2[1], mean_rewards_ts2[1], mean_rewards_lints2[1]]\n",
    "}\n",
    "df3 = pd.DataFrame(data)\n",
    "df3"
   ]
  },
  {
   "cell_type": "code",
   "execution_count": 52,
   "id": "0630cf49",
   "metadata": {
    "execution": {
     "iopub.execute_input": "2024-07-18T02:29:48.122457Z",
     "iopub.status.busy": "2024-07-18T02:29:48.121472Z",
     "iopub.status.idle": "2024-07-18T02:29:48.133449Z",
     "shell.execute_reply": "2024-07-18T02:29:48.132318Z"
    },
    "papermill": {
     "duration": 0.046955,
     "end_time": "2024-07-18T02:29:48.135758",
     "exception": false,
     "start_time": "2024-07-18T02:29:48.088803",
     "status": "completed"
    },
    "tags": []
   },
   "outputs": [
    {
     "data": {
      "text/html": [
       "<div>\n",
       "<style scoped>\n",
       "    .dataframe tbody tr th:only-of-type {\n",
       "        vertical-align: middle;\n",
       "    }\n",
       "\n",
       "    .dataframe tbody tr th {\n",
       "        vertical-align: top;\n",
       "    }\n",
       "\n",
       "    .dataframe thead th {\n",
       "        text-align: right;\n",
       "    }\n",
       "</style>\n",
       "<table border=\"1\" class=\"dataframe\">\n",
       "  <thead>\n",
       "    <tr style=\"text-align: right;\">\n",
       "      <th></th>\n",
       "      <th>Bandit Algorithm</th>\n",
       "      <th>Mean Total Rewards</th>\n",
       "    </tr>\n",
       "  </thead>\n",
       "  <tbody>\n",
       "    <tr>\n",
       "      <th>0</th>\n",
       "      <td>Epsilon-Greedy</td>\n",
       "      <td>3800.0</td>\n",
       "    </tr>\n",
       "    <tr>\n",
       "      <th>1</th>\n",
       "      <td>Thompson Sampling</td>\n",
       "      <td>3748.1</td>\n",
       "    </tr>\n",
       "    <tr>\n",
       "      <th>2</th>\n",
       "      <td>Linear Greedy</td>\n",
       "      <td>6737.4</td>\n",
       "    </tr>\n",
       "  </tbody>\n",
       "</table>\n",
       "</div>"
      ],
      "text/plain": [
       "    Bandit Algorithm  Mean Total Rewards\n",
       "0     Epsilon-Greedy              3800.0\n",
       "1  Thompson Sampling              3748.1\n",
       "2      Linear Greedy              6737.4"
      ]
     },
     "execution_count": 52,
     "metadata": {},
     "output_type": "execute_result"
    }
   ],
   "source": [
    "data = {\n",
    "    'Bandit Algorithm': ['Epsilon-Greedy', 'Thompson Sampling', 'Linear Greedy'],\n",
    "    'Mean Total Rewards': [mean_rewards_eg2[0], mean_rewards_ts2[0], mean_rewards_lints2[0]]\n",
    "}\n",
    "df33 = pd.DataFrame(data)\n",
    "df33"
   ]
  },
  {
   "cell_type": "code",
   "execution_count": 53,
   "id": "435d8955",
   "metadata": {
    "execution": {
     "iopub.execute_input": "2024-07-18T02:29:48.200524Z",
     "iopub.status.busy": "2024-07-18T02:29:48.199809Z",
     "iopub.status.idle": "2024-07-18T02:29:48.213622Z",
     "shell.execute_reply": "2024-07-18T02:29:48.212454Z"
    },
    "papermill": {
     "duration": 0.048943,
     "end_time": "2024-07-18T02:29:48.215989",
     "exception": false,
     "start_time": "2024-07-18T02:29:48.167046",
     "status": "completed"
    },
    "tags": []
   },
   "outputs": [
    {
     "data": {
      "text/html": [
       "<div>\n",
       "<style scoped>\n",
       "    .dataframe tbody tr th:only-of-type {\n",
       "        vertical-align: middle;\n",
       "    }\n",
       "\n",
       "    .dataframe tbody tr th {\n",
       "        vertical-align: top;\n",
       "    }\n",
       "\n",
       "    .dataframe thead th {\n",
       "        text-align: right;\n",
       "    }\n",
       "</style>\n",
       "<table border=\"1\" class=\"dataframe\">\n",
       "  <thead>\n",
       "    <tr style=\"text-align: right;\">\n",
       "      <th></th>\n",
       "      <th>Bandit Algorithm</th>\n",
       "      <th>Mean Total Rewards</th>\n",
       "    </tr>\n",
       "  </thead>\n",
       "  <tbody>\n",
       "    <tr>\n",
       "      <th>0</th>\n",
       "      <td>Epsilon-Greedy</td>\n",
       "      <td>[5599, 5523, 5614, 5548, 5514, 5475, 5706, 558...</td>\n",
       "    </tr>\n",
       "    <tr>\n",
       "      <th>1</th>\n",
       "      <td>Thompson Sampling</td>\n",
       "      <td>[5504, 5631, 5671, 5506, 5767, 5556, 5536, 536...</td>\n",
       "    </tr>\n",
       "    <tr>\n",
       "      <th>2</th>\n",
       "      <td>Linear Greedy</td>\n",
       "      <td>[5069, 5179, 5109, 5068, 5026, 5104, 5116, 499...</td>\n",
       "    </tr>\n",
       "  </tbody>\n",
       "</table>\n",
       "</div>"
      ],
      "text/plain": [
       "    Bandit Algorithm                                 Mean Total Rewards\n",
       "0     Epsilon-Greedy  [5599, 5523, 5614, 5548, 5514, 5475, 5706, 558...\n",
       "1  Thompson Sampling  [5504, 5631, 5671, 5506, 5767, 5556, 5536, 536...\n",
       "2      Linear Greedy  [5069, 5179, 5109, 5068, 5026, 5104, 5116, 499..."
      ]
     },
     "execution_count": 53,
     "metadata": {},
     "output_type": "execute_result"
    }
   ],
   "source": [
    "data = {\n",
    "    'Bandit Algorithm': ['Epsilon-Greedy', 'Thompson Sampling', 'Linear Greedy'],\n",
    "    'Mean Total Rewards': [mean_rewards_eg3[1], mean_rewards_ts3[1], mean_rewards_lints3[1]]\n",
    "}\n",
    "df4 = pd.DataFrame(data)\n",
    "df4"
   ]
  },
  {
   "cell_type": "code",
   "execution_count": 54,
   "id": "65bea7cd",
   "metadata": {
    "execution": {
     "iopub.execute_input": "2024-07-18T02:29:48.281229Z",
     "iopub.status.busy": "2024-07-18T02:29:48.280828Z",
     "iopub.status.idle": "2024-07-18T02:29:48.292967Z",
     "shell.execute_reply": "2024-07-18T02:29:48.291869Z"
    },
    "papermill": {
     "duration": 0.047578,
     "end_time": "2024-07-18T02:29:48.295288",
     "exception": false,
     "start_time": "2024-07-18T02:29:48.247710",
     "status": "completed"
    },
    "tags": []
   },
   "outputs": [
    {
     "data": {
      "text/html": [
       "<div>\n",
       "<style scoped>\n",
       "    .dataframe tbody tr th:only-of-type {\n",
       "        vertical-align: middle;\n",
       "    }\n",
       "\n",
       "    .dataframe tbody tr th {\n",
       "        vertical-align: top;\n",
       "    }\n",
       "\n",
       "    .dataframe thead th {\n",
       "        text-align: right;\n",
       "    }\n",
       "</style>\n",
       "<table border=\"1\" class=\"dataframe\">\n",
       "  <thead>\n",
       "    <tr style=\"text-align: right;\">\n",
       "      <th></th>\n",
       "      <th>Bandit Algorithm</th>\n",
       "      <th>Mean Total Rewards</th>\n",
       "    </tr>\n",
       "  </thead>\n",
       "  <tbody>\n",
       "    <tr>\n",
       "      <th>0</th>\n",
       "      <td>Epsilon-Greedy</td>\n",
       "      <td>5559.6</td>\n",
       "    </tr>\n",
       "    <tr>\n",
       "      <th>1</th>\n",
       "      <td>Thompson Sampling</td>\n",
       "      <td>5572.0</td>\n",
       "    </tr>\n",
       "    <tr>\n",
       "      <th>2</th>\n",
       "      <td>Linear Greedy</td>\n",
       "      <td>5081.8</td>\n",
       "    </tr>\n",
       "  </tbody>\n",
       "</table>\n",
       "</div>"
      ],
      "text/plain": [
       "    Bandit Algorithm  Mean Total Rewards\n",
       "0     Epsilon-Greedy              5559.6\n",
       "1  Thompson Sampling              5572.0\n",
       "2      Linear Greedy              5081.8"
      ]
     },
     "execution_count": 54,
     "metadata": {},
     "output_type": "execute_result"
    }
   ],
   "source": [
    "data = {\n",
    "    'Bandit Algorithm': ['Epsilon-Greedy', 'Thompson Sampling', 'Linear Greedy'],\n",
    "    'Mean Total Rewards': [mean_rewards_eg3[0], mean_rewards_ts3[0], mean_rewards_lints3[0]]\n",
    "}\n",
    "df44 = pd.DataFrame(data)\n",
    "df44"
   ]
  }
 ],
 "metadata": {
  "kaggle": {
   "accelerator": "none",
   "dataSources": [
    {
     "datasetId": 1651798,
     "sourceId": 2762644,
     "sourceType": "datasetVersion"
    }
   ],
   "dockerImageVersionId": 30732,
   "isGpuEnabled": false,
   "isInternetEnabled": true,
   "language": "python",
   "sourceType": "notebook"
  },
  "kernelspec": {
   "display_name": "Python 3",
   "language": "python",
   "name": "python3"
  },
  "language_info": {
   "codemirror_mode": {
    "name": "ipython",
    "version": 3
   },
   "file_extension": ".py",
   "mimetype": "text/x-python",
   "name": "python",
   "nbconvert_exporter": "python",
   "pygments_lexer": "ipython3",
   "version": "3.10.13"
  },
  "papermill": {
   "default_parameters": {},
   "duration": 8830.045904,
   "end_time": "2024-07-18T02:29:48.970747",
   "environment_variables": {},
   "exception": null,
   "input_path": "__notebook__.ipynb",
   "output_path": "__notebook__.ipynb",
   "parameters": {},
   "start_time": "2024-07-18T00:02:38.924843",
   "version": "2.5.0"
  }
 },
 "nbformat": 4,
 "nbformat_minor": 5
}
